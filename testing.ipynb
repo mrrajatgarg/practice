{
  "nbformat": 4,
  "nbformat_minor": 0,
  "metadata": {
    "colab": {
      "name": "testing.ipynb",
      "version": "0.3.2",
      "provenance": [],
      "collapsed_sections": [],
      "include_colab_link": true
    },
    "kernelspec": {
      "name": "python3",
      "display_name": "Python 3"
    },
    "accelerator": "GPU"
  },
  "cells": [
    {
      "cell_type": "markdown",
      "metadata": {
        "id": "view-in-github",
        "colab_type": "text"
      },
      "source": [
        "<a href=\"https://colab.research.google.com/github/mrrajatgarg/practice/blob/master/testing.ipynb\" target=\"_parent\"><img src=\"https://colab.research.google.com/assets/colab-badge.svg\" alt=\"Open In Colab\"/></a>"
      ]
    },
    {
      "metadata": {
        "id": "7O70Immy4HFj",
        "colab_type": "code",
        "colab": {
          "base_uri": "https://localhost:8080/",
          "height": 145
        },
        "outputId": "54ce3678-9114-4e9e-9b88-24369f487375"
      },
      "cell_type": "code",
      "source": [
        "!ls"
      ],
      "execution_count": 1,
      "outputs": [
        {
          "output_type": "stream",
          "text": [
            "0  7\t\t\t      c\t\t       mp3.zip.001\n",
            "1  8\t\t\t      clip_file.csv    mp3.zip.002\n",
            "2  9\t\t\t      d\t\t       mp3.zip.003\n",
            "3  a\t\t\t      e\t\t       npy_files_TOTAL_train\n",
            "4  annotations_final.csv      f\t\t       sample_data\n",
            "5  annotations_final_new.csv  features_id_mp3  wav_files_TOTAL\n",
            "6  b\t\t\t      mp3_all.zip\n"
          ],
          "name": "stdout"
        }
      ]
    },
    {
      "metadata": {
        "id": "gAj1UE0Q4NDf",
        "colab_type": "code",
        "colab": {}
      },
      "cell_type": "code",
      "source": [
        "import pandas as pd\n",
        "import numpy as np\n",
        "import os\n",
        "import shutil\n",
        "import librosa\n",
        "import time"
      ],
      "execution_count": 0,
      "outputs": []
    },
    {
      "metadata": {
        "id": "pO_Hm6Rh4r36",
        "colab_type": "code",
        "colab": {}
      },
      "cell_type": "code",
      "source": [
        "directory_labels = '/content/'"
      ],
      "execution_count": 0,
      "outputs": []
    },
    {
      "metadata": {
        "id": "t73iMe8f5Eih",
        "colab_type": "code",
        "colab": {}
      },
      "cell_type": "code",
      "source": [
        "# Load the annotations file (prior to execution check correctness of delimiter)\n",
        "annotations = pd.read_csv(directory_labels + 'annotations_final.csv', sep=\"\\t\")"
      ],
      "execution_count": 0,
      "outputs": []
    },
    {
      "metadata": {
        "id": "7-57YD3H5Kl3",
        "colab_type": "code",
        "colab": {
          "base_uri": "https://localhost:8080/",
          "height": 108
        },
        "outputId": "2b9c10ff-9d29-4bd6-973c-affcdfaac9e0"
      },
      "cell_type": "code",
      "source": [
        "# check size of annotations\n",
        "annotations.info()"
      ],
      "execution_count": 8,
      "outputs": [
        {
          "output_type": "stream",
          "text": [
            "<class 'pandas.core.frame.DataFrame'>\n",
            "RangeIndex: 25863 entries, 0 to 25862\n",
            "Columns: 190 entries, clip_id to mp3_path\n",
            "dtypes: int64(189), object(1)\n",
            "memory usage: 37.5+ MB\n"
          ],
          "name": "stdout"
        }
      ]
    },
    {
      "metadata": {
        "id": "dMCZK33x5MZ8",
        "colab_type": "code",
        "colab": {
          "base_uri": "https://localhost:8080/",
          "height": 351
        },
        "outputId": "5963e183-10a5-43e3-96b8-655910e05e62"
      },
      "cell_type": "code",
      "source": [
        "# ensure correct loading\n",
        "annotations.head(5)"
      ],
      "execution_count": 9,
      "outputs": [
        {
          "output_type": "execute_result",
          "data": {
            "text/html": [
              "<div>\n",
              "<style scoped>\n",
              "    .dataframe tbody tr th:only-of-type {\n",
              "        vertical-align: middle;\n",
              "    }\n",
              "\n",
              "    .dataframe tbody tr th {\n",
              "        vertical-align: top;\n",
              "    }\n",
              "\n",
              "    .dataframe thead th {\n",
              "        text-align: right;\n",
              "    }\n",
              "</style>\n",
              "<table border=\"1\" class=\"dataframe\">\n",
              "  <thead>\n",
              "    <tr style=\"text-align: right;\">\n",
              "      <th></th>\n",
              "      <th>clip_id</th>\n",
              "      <th>no voice</th>\n",
              "      <th>singer</th>\n",
              "      <th>duet</th>\n",
              "      <th>plucking</th>\n",
              "      <th>hard rock</th>\n",
              "      <th>world</th>\n",
              "      <th>bongos</th>\n",
              "      <th>harpsichord</th>\n",
              "      <th>female singing</th>\n",
              "      <th>...</th>\n",
              "      <th>rap</th>\n",
              "      <th>metal</th>\n",
              "      <th>hip hop</th>\n",
              "      <th>quick</th>\n",
              "      <th>water</th>\n",
              "      <th>baroque</th>\n",
              "      <th>women</th>\n",
              "      <th>fiddle</th>\n",
              "      <th>english</th>\n",
              "      <th>mp3_path</th>\n",
              "    </tr>\n",
              "  </thead>\n",
              "  <tbody>\n",
              "    <tr>\n",
              "      <th>0</th>\n",
              "      <td>2</td>\n",
              "      <td>0</td>\n",
              "      <td>0</td>\n",
              "      <td>0</td>\n",
              "      <td>0</td>\n",
              "      <td>0</td>\n",
              "      <td>0</td>\n",
              "      <td>0</td>\n",
              "      <td>0</td>\n",
              "      <td>0</td>\n",
              "      <td>...</td>\n",
              "      <td>0</td>\n",
              "      <td>0</td>\n",
              "      <td>0</td>\n",
              "      <td>0</td>\n",
              "      <td>0</td>\n",
              "      <td>0</td>\n",
              "      <td>0</td>\n",
              "      <td>0</td>\n",
              "      <td>0</td>\n",
              "      <td>f/american_bach_soloists-j_s__bach_solo_cantat...</td>\n",
              "    </tr>\n",
              "    <tr>\n",
              "      <th>1</th>\n",
              "      <td>6</td>\n",
              "      <td>0</td>\n",
              "      <td>0</td>\n",
              "      <td>0</td>\n",
              "      <td>0</td>\n",
              "      <td>0</td>\n",
              "      <td>0</td>\n",
              "      <td>0</td>\n",
              "      <td>0</td>\n",
              "      <td>0</td>\n",
              "      <td>...</td>\n",
              "      <td>0</td>\n",
              "      <td>0</td>\n",
              "      <td>0</td>\n",
              "      <td>0</td>\n",
              "      <td>0</td>\n",
              "      <td>1</td>\n",
              "      <td>0</td>\n",
              "      <td>0</td>\n",
              "      <td>0</td>\n",
              "      <td>f/american_bach_soloists-j_s__bach_solo_cantat...</td>\n",
              "    </tr>\n",
              "    <tr>\n",
              "      <th>2</th>\n",
              "      <td>10</td>\n",
              "      <td>0</td>\n",
              "      <td>0</td>\n",
              "      <td>0</td>\n",
              "      <td>0</td>\n",
              "      <td>0</td>\n",
              "      <td>0</td>\n",
              "      <td>0</td>\n",
              "      <td>0</td>\n",
              "      <td>0</td>\n",
              "      <td>...</td>\n",
              "      <td>0</td>\n",
              "      <td>0</td>\n",
              "      <td>0</td>\n",
              "      <td>0</td>\n",
              "      <td>0</td>\n",
              "      <td>0</td>\n",
              "      <td>0</td>\n",
              "      <td>0</td>\n",
              "      <td>0</td>\n",
              "      <td>f/american_bach_soloists-j_s__bach_solo_cantat...</td>\n",
              "    </tr>\n",
              "    <tr>\n",
              "      <th>3</th>\n",
              "      <td>11</td>\n",
              "      <td>0</td>\n",
              "      <td>0</td>\n",
              "      <td>0</td>\n",
              "      <td>0</td>\n",
              "      <td>0</td>\n",
              "      <td>0</td>\n",
              "      <td>0</td>\n",
              "      <td>0</td>\n",
              "      <td>0</td>\n",
              "      <td>...</td>\n",
              "      <td>0</td>\n",
              "      <td>0</td>\n",
              "      <td>0</td>\n",
              "      <td>0</td>\n",
              "      <td>0</td>\n",
              "      <td>0</td>\n",
              "      <td>0</td>\n",
              "      <td>0</td>\n",
              "      <td>0</td>\n",
              "      <td>f/american_bach_soloists-j_s__bach_solo_cantat...</td>\n",
              "    </tr>\n",
              "    <tr>\n",
              "      <th>4</th>\n",
              "      <td>12</td>\n",
              "      <td>0</td>\n",
              "      <td>0</td>\n",
              "      <td>0</td>\n",
              "      <td>0</td>\n",
              "      <td>0</td>\n",
              "      <td>0</td>\n",
              "      <td>0</td>\n",
              "      <td>0</td>\n",
              "      <td>0</td>\n",
              "      <td>...</td>\n",
              "      <td>0</td>\n",
              "      <td>0</td>\n",
              "      <td>0</td>\n",
              "      <td>0</td>\n",
              "      <td>0</td>\n",
              "      <td>0</td>\n",
              "      <td>0</td>\n",
              "      <td>0</td>\n",
              "      <td>0</td>\n",
              "      <td>f/american_bach_soloists-j_s__bach_solo_cantat...</td>\n",
              "    </tr>\n",
              "  </tbody>\n",
              "</table>\n",
              "<p>5 rows × 190 columns</p>\n",
              "</div>"
            ],
            "text/plain": [
              "   clip_id  no voice  singer  duet  plucking  hard rock  world  bongos  \\\n",
              "0        2         0       0     0         0          0      0       0   \n",
              "1        6         0       0     0         0          0      0       0   \n",
              "2       10         0       0     0         0          0      0       0   \n",
              "3       11         0       0     0         0          0      0       0   \n",
              "4       12         0       0     0         0          0      0       0   \n",
              "\n",
              "   harpsichord  female singing  \\\n",
              "0            0               0   \n",
              "1            0               0   \n",
              "2            0               0   \n",
              "3            0               0   \n",
              "4            0               0   \n",
              "\n",
              "                         ...                          rap  metal  hip hop  \\\n",
              "0                        ...                            0      0        0   \n",
              "1                        ...                            0      0        0   \n",
              "2                        ...                            0      0        0   \n",
              "3                        ...                            0      0        0   \n",
              "4                        ...                            0      0        0   \n",
              "\n",
              "   quick  water  baroque  women  fiddle  english  \\\n",
              "0      0      0        0      0       0        0   \n",
              "1      0      0        1      0       0        0   \n",
              "2      0      0        0      0       0        0   \n",
              "3      0      0        0      0       0        0   \n",
              "4      0      0        0      0       0        0   \n",
              "\n",
              "                                            mp3_path  \n",
              "0  f/american_bach_soloists-j_s__bach_solo_cantat...  \n",
              "1  f/american_bach_soloists-j_s__bach_solo_cantat...  \n",
              "2  f/american_bach_soloists-j_s__bach_solo_cantat...  \n",
              "3  f/american_bach_soloists-j_s__bach_solo_cantat...  \n",
              "4  f/american_bach_soloists-j_s__bach_solo_cantat...  \n",
              "\n",
              "[5 rows x 190 columns]"
            ]
          },
          "metadata": {
            "tags": []
          },
          "execution_count": 9
        }
      ]
    },
    {
      "metadata": {
        "id": "_aRer4Si5OAd",
        "colab_type": "code",
        "colab": {}
      },
      "cell_type": "code",
      "source": [
        "# merge synonym tags\n",
        "synonyms = [['beat', 'beats'],\n",
        "            ['chant', 'chanting'],\n",
        "            ['choir', 'choral'],\n",
        "            ['classical', 'clasical', 'classic'],\n",
        "            ['drum', 'drums'],\n",
        "            ['electro', 'electronic', 'electronica', 'electric'],\n",
        "            ['fast', 'fast beat', 'quick'],\n",
        "            ['female', 'female singer', 'female singing', 'female vocals', 'female vocal', 'female voice', 'woman', 'woman singing', 'women'],\n",
        "            ['flute', 'flutes'],\n",
        "            ['guitar', 'guitars'],\n",
        "            ['hard', 'hard rock'],\n",
        "            ['harpsichord', 'harpsicord'],\n",
        "            ['heavy', 'heavy metal', 'metal'],\n",
        "            ['horn', 'horns'],\n",
        "            ['india', 'indian'],\n",
        "            ['jazz', 'jazzy'],\n",
        "            ['male', 'male singer', 'male vocal', 'male vocals', 'male voice', 'man', 'man singing', 'men'],\n",
        "            ['no beat', 'no drums'],\n",
        "            ['no singer', 'no singing', 'no vocal','no vocals', 'no voice', 'no voices', 'instrumental'],\n",
        "            ['opera', 'operatic'],\n",
        "            ['orchestra', 'orchestral'],\n",
        "            ['quiet', 'silence'],\n",
        "            ['singer', 'singing'],\n",
        "            ['space', 'spacey'],\n",
        "            ['string', 'strings'],\n",
        "            ['synth', 'synthesizer'],\n",
        "            ['violin', 'violins'],\n",
        "            ['vocal', 'vocals', 'voice', 'voices'],\n",
        "            ['strange', 'weird']]"
      ],
      "execution_count": 0,
      "outputs": []
    },
    {
      "metadata": {
        "id": "xIdZPfpx5Sks",
        "colab_type": "code",
        "colab": {}
      },
      "cell_type": "code",
      "source": [
        "# replace all synonym words with the first in the list constructed above\n",
        "for synonym_list in synonyms:\n",
        "    annotations[synonym_list[0]] = annotations[synonym_list].max(axis=1)\n",
        "    annotations.drop(synonym_list[1:], axis=1, inplace=True)"
      ],
      "execution_count": 0,
      "outputs": []
    },
    {
      "metadata": {
        "id": "v6HdNBTq5Uf3",
        "colab_type": "code",
        "colab": {
          "base_uri": "https://localhost:8080/",
          "height": 108
        },
        "outputId": "3f39aad1-993b-43bd-e3d4-89089d40d37e"
      },
      "cell_type": "code",
      "source": [
        "# check results\n",
        "# previously: Columns: 190 entries, clip_id to mp3_path &  memory usage: 37.5+ MB\n",
        "# now: Columns: 136 entries, clip_id to mp3_path & memory usage: 26.8+ MB\n",
        "annotations.info()"
      ],
      "execution_count": 12,
      "outputs": [
        {
          "output_type": "stream",
          "text": [
            "<class 'pandas.core.frame.DataFrame'>\n",
            "RangeIndex: 25863 entries, 0 to 25862\n",
            "Columns: 136 entries, clip_id to mp3_path\n",
            "dtypes: int64(135), object(1)\n",
            "memory usage: 26.8+ MB\n"
          ],
          "name": "stdout"
        }
      ]
    },
    {
      "metadata": {
        "id": "P3RpyIpO5WYe",
        "colab_type": "code",
        "colab": {}
      },
      "cell_type": "code",
      "source": [
        "# keep clip_id and mp3_path in a different matrix to bind later\n",
        "annotations_ids = annotations[['clip_id', 'mp3_path']]"
      ],
      "execution_count": 0,
      "outputs": []
    },
    {
      "metadata": {
        "id": "ao-0213r5ZmS",
        "colab_type": "code",
        "colab": {}
      },
      "cell_type": "code",
      "source": [
        "# drop clip_id and mp3_path to proceed with distribution counts\n",
        "annotations = annotations[annotations.columns.difference(['clip_id', 'mp3_path'])]"
      ],
      "execution_count": 0,
      "outputs": []
    },
    {
      "metadata": {
        "id": "3zRNca5l5cm-",
        "colab_type": "code",
        "colab": {
          "base_uri": "https://localhost:8080/",
          "height": 108
        },
        "outputId": "e7609756-516d-476e-a6f0-12db14b24bcf"
      },
      "cell_type": "code",
      "source": [
        "annotations.info()"
      ],
      "execution_count": 15,
      "outputs": [
        {
          "output_type": "stream",
          "text": [
            "<class 'pandas.core.frame.DataFrame'>\n",
            "RangeIndex: 25863 entries, 0 to 25862\n",
            "Columns: 134 entries, acoustic to world\n",
            "dtypes: int64(134)\n",
            "memory usage: 26.4 MB\n"
          ],
          "name": "stdout"
        }
      ]
    },
    {
      "metadata": {
        "id": "qTLmMzcX5d-D",
        "colab_type": "code",
        "colab": {}
      },
      "cell_type": "code",
      "source": [
        "# tags' distribution\n",
        "tags_distro = annotations.sum(axis=0)\n",
        "# sort tags according to their occurencies \n",
        "tags_distro.sort_values(axis=0, inplace=True, ascending = False)"
      ],
      "execution_count": 0,
      "outputs": []
    },
    {
      "metadata": {
        "id": "6cFD2ZSY5hUR",
        "colab_type": "code",
        "colab": {}
      },
      "cell_type": "code",
      "source": [
        "#find 50 top tags\n",
        "topindex, topvalues = list(tags_distro.index[:50]), tags_distro.values[:50]"
      ],
      "execution_count": 0,
      "outputs": []
    },
    {
      "metadata": {
        "id": "G-dR_baH5jse",
        "colab_type": "code",
        "colab": {}
      },
      "cell_type": "code",
      "source": [
        "# list of columns to remove from annotation file (not common labels)\n",
        "rem_cols_index =list(tags_distro.index[50:])"
      ],
      "execution_count": 0,
      "outputs": []
    },
    {
      "metadata": {
        "id": "ZFg67Mt05loP",
        "colab_type": "code",
        "colab": {
          "base_uri": "https://localhost:8080/",
          "height": 35
        },
        "outputId": "564e7d03-091b-4118-e415-7537b47c5ac4"
      },
      "cell_type": "code",
      "source": [
        "#check how many columns we are about to remove\n",
        "len(rem_cols_index) "
      ],
      "execution_count": 19,
      "outputs": [
        {
          "output_type": "execute_result",
          "data": {
            "text/plain": [
              "84"
            ]
          },
          "metadata": {
            "tags": []
          },
          "execution_count": 19
        }
      ]
    },
    {
      "metadata": {
        "id": "Z5repnz05nAl",
        "colab_type": "code",
        "colab": {}
      },
      "cell_type": "code",
      "source": [
        "# keep only the 50 most common tags\n",
        "annotations.drop(rem_cols_index, axis=1, inplace=True)"
      ],
      "execution_count": 0,
      "outputs": []
    },
    {
      "metadata": {
        "id": "uxNNxQDS5pAQ",
        "colab_type": "code",
        "colab": {}
      },
      "cell_type": "code",
      "source": [
        "# bind back clip_id and mp3_path\n",
        "annotations['clip_id'] = annotations_ids['clip_id']\n",
        "annotations['mp3_path'] = annotations_ids['mp3_path']"
      ],
      "execution_count": 0,
      "outputs": []
    },
    {
      "metadata": {
        "id": "NjO1zANo5s4Y",
        "colab_type": "code",
        "colab": {
          "base_uri": "https://localhost:8080/",
          "height": 334
        },
        "outputId": "11daacee-35b4-4e44-8995-7b9c61094a49"
      },
      "cell_type": "code",
      "source": [
        "# ensure correct binding\n",
        "annotations.head(5)"
      ],
      "execution_count": 22,
      "outputs": [
        {
          "output_type": "execute_result",
          "data": {
            "text/html": [
              "<div>\n",
              "<style scoped>\n",
              "    .dataframe tbody tr th:only-of-type {\n",
              "        vertical-align: middle;\n",
              "    }\n",
              "\n",
              "    .dataframe tbody tr th {\n",
              "        vertical-align: top;\n",
              "    }\n",
              "\n",
              "    .dataframe thead th {\n",
              "        text-align: right;\n",
              "    }\n",
              "</style>\n",
              "<table border=\"1\" class=\"dataframe\">\n",
              "  <thead>\n",
              "    <tr style=\"text-align: right;\">\n",
              "      <th></th>\n",
              "      <th>ambient</th>\n",
              "      <th>baroque</th>\n",
              "      <th>bass</th>\n",
              "      <th>beat</th>\n",
              "      <th>cello</th>\n",
              "      <th>chant</th>\n",
              "      <th>choir</th>\n",
              "      <th>classical</th>\n",
              "      <th>country</th>\n",
              "      <th>dance</th>\n",
              "      <th>...</th>\n",
              "      <th>solo</th>\n",
              "      <th>strange</th>\n",
              "      <th>string</th>\n",
              "      <th>synth</th>\n",
              "      <th>techno</th>\n",
              "      <th>trance</th>\n",
              "      <th>violin</th>\n",
              "      <th>vocal</th>\n",
              "      <th>clip_id</th>\n",
              "      <th>mp3_path</th>\n",
              "    </tr>\n",
              "  </thead>\n",
              "  <tbody>\n",
              "    <tr>\n",
              "      <th>0</th>\n",
              "      <td>0</td>\n",
              "      <td>0</td>\n",
              "      <td>0</td>\n",
              "      <td>0</td>\n",
              "      <td>0</td>\n",
              "      <td>0</td>\n",
              "      <td>0</td>\n",
              "      <td>1</td>\n",
              "      <td>0</td>\n",
              "      <td>0</td>\n",
              "      <td>...</td>\n",
              "      <td>0</td>\n",
              "      <td>0</td>\n",
              "      <td>1</td>\n",
              "      <td>0</td>\n",
              "      <td>0</td>\n",
              "      <td>0</td>\n",
              "      <td>1</td>\n",
              "      <td>0</td>\n",
              "      <td>2</td>\n",
              "      <td>f/american_bach_soloists-j_s__bach_solo_cantat...</td>\n",
              "    </tr>\n",
              "    <tr>\n",
              "      <th>1</th>\n",
              "      <td>0</td>\n",
              "      <td>1</td>\n",
              "      <td>0</td>\n",
              "      <td>0</td>\n",
              "      <td>0</td>\n",
              "      <td>0</td>\n",
              "      <td>0</td>\n",
              "      <td>1</td>\n",
              "      <td>0</td>\n",
              "      <td>0</td>\n",
              "      <td>...</td>\n",
              "      <td>0</td>\n",
              "      <td>0</td>\n",
              "      <td>1</td>\n",
              "      <td>0</td>\n",
              "      <td>0</td>\n",
              "      <td>0</td>\n",
              "      <td>1</td>\n",
              "      <td>0</td>\n",
              "      <td>6</td>\n",
              "      <td>f/american_bach_soloists-j_s__bach_solo_cantat...</td>\n",
              "    </tr>\n",
              "    <tr>\n",
              "      <th>2</th>\n",
              "      <td>0</td>\n",
              "      <td>0</td>\n",
              "      <td>0</td>\n",
              "      <td>0</td>\n",
              "      <td>0</td>\n",
              "      <td>0</td>\n",
              "      <td>0</td>\n",
              "      <td>1</td>\n",
              "      <td>0</td>\n",
              "      <td>0</td>\n",
              "      <td>...</td>\n",
              "      <td>0</td>\n",
              "      <td>0</td>\n",
              "      <td>0</td>\n",
              "      <td>0</td>\n",
              "      <td>0</td>\n",
              "      <td>0</td>\n",
              "      <td>0</td>\n",
              "      <td>0</td>\n",
              "      <td>10</td>\n",
              "      <td>f/american_bach_soloists-j_s__bach_solo_cantat...</td>\n",
              "    </tr>\n",
              "    <tr>\n",
              "      <th>3</th>\n",
              "      <td>0</td>\n",
              "      <td>0</td>\n",
              "      <td>0</td>\n",
              "      <td>0</td>\n",
              "      <td>0</td>\n",
              "      <td>0</td>\n",
              "      <td>0</td>\n",
              "      <td>0</td>\n",
              "      <td>0</td>\n",
              "      <td>0</td>\n",
              "      <td>...</td>\n",
              "      <td>0</td>\n",
              "      <td>0</td>\n",
              "      <td>0</td>\n",
              "      <td>0</td>\n",
              "      <td>0</td>\n",
              "      <td>0</td>\n",
              "      <td>0</td>\n",
              "      <td>0</td>\n",
              "      <td>11</td>\n",
              "      <td>f/american_bach_soloists-j_s__bach_solo_cantat...</td>\n",
              "    </tr>\n",
              "    <tr>\n",
              "      <th>4</th>\n",
              "      <td>0</td>\n",
              "      <td>0</td>\n",
              "      <td>0</td>\n",
              "      <td>0</td>\n",
              "      <td>0</td>\n",
              "      <td>0</td>\n",
              "      <td>0</td>\n",
              "      <td>1</td>\n",
              "      <td>0</td>\n",
              "      <td>0</td>\n",
              "      <td>...</td>\n",
              "      <td>0</td>\n",
              "      <td>0</td>\n",
              "      <td>1</td>\n",
              "      <td>0</td>\n",
              "      <td>0</td>\n",
              "      <td>0</td>\n",
              "      <td>1</td>\n",
              "      <td>0</td>\n",
              "      <td>12</td>\n",
              "      <td>f/american_bach_soloists-j_s__bach_solo_cantat...</td>\n",
              "    </tr>\n",
              "  </tbody>\n",
              "</table>\n",
              "<p>5 rows × 52 columns</p>\n",
              "</div>"
            ],
            "text/plain": [
              "   ambient  baroque  bass  beat  cello  chant  choir  classical  country  \\\n",
              "0        0        0     0     0      0      0      0          1        0   \n",
              "1        0        1     0     0      0      0      0          1        0   \n",
              "2        0        0     0     0      0      0      0          1        0   \n",
              "3        0        0     0     0      0      0      0          0        0   \n",
              "4        0        0     0     0      0      0      0          1        0   \n",
              "\n",
              "   dance                        ...                          solo  strange  \\\n",
              "0      0                        ...                             0        0   \n",
              "1      0                        ...                             0        0   \n",
              "2      0                        ...                             0        0   \n",
              "3      0                        ...                             0        0   \n",
              "4      0                        ...                             0        0   \n",
              "\n",
              "   string  synth  techno  trance  violin  vocal  clip_id  \\\n",
              "0       1      0       0       0       1      0        2   \n",
              "1       1      0       0       0       1      0        6   \n",
              "2       0      0       0       0       0      0       10   \n",
              "3       0      0       0       0       0      0       11   \n",
              "4       1      0       0       0       1      0       12   \n",
              "\n",
              "                                            mp3_path  \n",
              "0  f/american_bach_soloists-j_s__bach_solo_cantat...  \n",
              "1  f/american_bach_soloists-j_s__bach_solo_cantat...  \n",
              "2  f/american_bach_soloists-j_s__bach_solo_cantat...  \n",
              "3  f/american_bach_soloists-j_s__bach_solo_cantat...  \n",
              "4  f/american_bach_soloists-j_s__bach_solo_cantat...  \n",
              "\n",
              "[5 rows x 52 columns]"
            ]
          },
          "metadata": {
            "tags": []
          },
          "execution_count": 22
        }
      ]
    },
    {
      "metadata": {
        "id": "y4zOJk6t5uxr",
        "colab_type": "code",
        "colab": {}
      },
      "cell_type": "code",
      "source": [
        "# check results\n",
        "# previously: Columns: 136 entries, clip_id to mp3_path & memory usage: 26.8+ MB\n",
        "# now: Columns: 52 entries, clip_id to mp3_path &  memory usage: 10.1 MB\n",
        "annotations.info()"
      ],
      "execution_count": 0,
      "outputs": []
    },
    {
      "metadata": {
        "id": "TGsVOx8f5zKL",
        "colab_type": "code",
        "colab": {
          "base_uri": "https://localhost:8080/",
          "height": 145
        },
        "outputId": "a49c8881-53f6-4abb-8248-2f488861daf9"
      },
      "cell_type": "code",
      "source": [
        "!ls"
      ],
      "execution_count": 24,
      "outputs": [
        {
          "output_type": "stream",
          "text": [
            "0  7\t\t\t      c\t\t       mp3.zip.001\n",
            "1  8\t\t\t      clip_file.csv    mp3.zip.002\n",
            "2  9\t\t\t      d\t\t       mp3.zip.003\n",
            "3  a\t\t\t      e\t\t       npy_files_TOTAL_train\n",
            "4  annotations_final.csv      f\t\t       sample_data\n",
            "5  annotations_final_new.csv  features_id_mp3  wav_files_TOTAL\n",
            "6  b\t\t\t      mp3_all.zip\n"
          ],
          "name": "stdout"
        }
      ]
    },
    {
      "metadata": {
        "id": "XH1xkg1S6F1l",
        "colab_type": "code",
        "colab": {}
      },
      "cell_type": "code",
      "source": [
        "annotations.to_csv(directory_labels + 'annotations_final_new2.csv', sep=',')"
      ],
      "execution_count": 0,
      "outputs": []
    },
    {
      "metadata": {
        "id": "DfqLgbZv6OD6",
        "colab_type": "code",
        "colab": {
          "base_uri": "https://localhost:8080/",
          "height": 145
        },
        "outputId": "7faf3476-c06c-496c-e892-929bc4860502"
      },
      "cell_type": "code",
      "source": [
        "!ls"
      ],
      "execution_count": 28,
      "outputs": [
        {
          "output_type": "stream",
          "text": [
            "0  7\t\t\t       b\t\tmp3_all.zip\n",
            "1  8\t\t\t       c\t\tmp3.zip.001\n",
            "2  9\t\t\t       clip_file.csv\tmp3.zip.002\n",
            "3  a\t\t\t       d\t\tmp3.zip.003\n",
            "4  annotations_final.csv       e\t\tnpy_files_TOTAL_train\n",
            "5  annotations_final_new2.csv  f\t\tsample_data\n",
            "6  annotations_final_new.csv   features_id_mp3\twav_files_TOTAL\n"
          ],
          "name": "stdout"
        }
      ]
    },
    {
      "metadata": {
        "id": "q4PCUW9I6xAO",
        "colab_type": "code",
        "colab": {}
      },
      "cell_type": "code",
      "source": [
        "new_annotations = pd.read_csv(directory_labels + 'annotations_final_new2.csv', sep=\"\\t\")"
      ],
      "execution_count": 0,
      "outputs": []
    },
    {
      "metadata": {
        "id": "vjeHCLfb8PZY",
        "colab_type": "code",
        "colab": {
          "base_uri": "https://localhost:8080/",
          "height": 334
        },
        "outputId": "56327ab8-fa75-4dd1-dd18-5bc02879ed4b"
      },
      "cell_type": "code",
      "source": [
        "annotations.head(5)"
      ],
      "execution_count": 33,
      "outputs": [
        {
          "output_type": "execute_result",
          "data": {
            "text/html": [
              "<div>\n",
              "<style scoped>\n",
              "    .dataframe tbody tr th:only-of-type {\n",
              "        vertical-align: middle;\n",
              "    }\n",
              "\n",
              "    .dataframe tbody tr th {\n",
              "        vertical-align: top;\n",
              "    }\n",
              "\n",
              "    .dataframe thead th {\n",
              "        text-align: right;\n",
              "    }\n",
              "</style>\n",
              "<table border=\"1\" class=\"dataframe\">\n",
              "  <thead>\n",
              "    <tr style=\"text-align: right;\">\n",
              "      <th></th>\n",
              "      <th>ambient</th>\n",
              "      <th>baroque</th>\n",
              "      <th>bass</th>\n",
              "      <th>beat</th>\n",
              "      <th>cello</th>\n",
              "      <th>chant</th>\n",
              "      <th>choir</th>\n",
              "      <th>classical</th>\n",
              "      <th>country</th>\n",
              "      <th>dance</th>\n",
              "      <th>...</th>\n",
              "      <th>solo</th>\n",
              "      <th>strange</th>\n",
              "      <th>string</th>\n",
              "      <th>synth</th>\n",
              "      <th>techno</th>\n",
              "      <th>trance</th>\n",
              "      <th>violin</th>\n",
              "      <th>vocal</th>\n",
              "      <th>clip_id</th>\n",
              "      <th>mp3_path</th>\n",
              "    </tr>\n",
              "  </thead>\n",
              "  <tbody>\n",
              "    <tr>\n",
              "      <th>0</th>\n",
              "      <td>0</td>\n",
              "      <td>0</td>\n",
              "      <td>0</td>\n",
              "      <td>0</td>\n",
              "      <td>0</td>\n",
              "      <td>0</td>\n",
              "      <td>0</td>\n",
              "      <td>1</td>\n",
              "      <td>0</td>\n",
              "      <td>0</td>\n",
              "      <td>...</td>\n",
              "      <td>0</td>\n",
              "      <td>0</td>\n",
              "      <td>1</td>\n",
              "      <td>0</td>\n",
              "      <td>0</td>\n",
              "      <td>0</td>\n",
              "      <td>1</td>\n",
              "      <td>0</td>\n",
              "      <td>2</td>\n",
              "      <td>f/american_bach_soloists-j_s__bach_solo_cantat...</td>\n",
              "    </tr>\n",
              "    <tr>\n",
              "      <th>1</th>\n",
              "      <td>0</td>\n",
              "      <td>1</td>\n",
              "      <td>0</td>\n",
              "      <td>0</td>\n",
              "      <td>0</td>\n",
              "      <td>0</td>\n",
              "      <td>0</td>\n",
              "      <td>1</td>\n",
              "      <td>0</td>\n",
              "      <td>0</td>\n",
              "      <td>...</td>\n",
              "      <td>0</td>\n",
              "      <td>0</td>\n",
              "      <td>1</td>\n",
              "      <td>0</td>\n",
              "      <td>0</td>\n",
              "      <td>0</td>\n",
              "      <td>1</td>\n",
              "      <td>0</td>\n",
              "      <td>6</td>\n",
              "      <td>f/american_bach_soloists-j_s__bach_solo_cantat...</td>\n",
              "    </tr>\n",
              "    <tr>\n",
              "      <th>2</th>\n",
              "      <td>0</td>\n",
              "      <td>0</td>\n",
              "      <td>0</td>\n",
              "      <td>0</td>\n",
              "      <td>0</td>\n",
              "      <td>0</td>\n",
              "      <td>0</td>\n",
              "      <td>1</td>\n",
              "      <td>0</td>\n",
              "      <td>0</td>\n",
              "      <td>...</td>\n",
              "      <td>0</td>\n",
              "      <td>0</td>\n",
              "      <td>0</td>\n",
              "      <td>0</td>\n",
              "      <td>0</td>\n",
              "      <td>0</td>\n",
              "      <td>0</td>\n",
              "      <td>0</td>\n",
              "      <td>10</td>\n",
              "      <td>f/american_bach_soloists-j_s__bach_solo_cantat...</td>\n",
              "    </tr>\n",
              "    <tr>\n",
              "      <th>3</th>\n",
              "      <td>0</td>\n",
              "      <td>0</td>\n",
              "      <td>0</td>\n",
              "      <td>0</td>\n",
              "      <td>0</td>\n",
              "      <td>0</td>\n",
              "      <td>0</td>\n",
              "      <td>0</td>\n",
              "      <td>0</td>\n",
              "      <td>0</td>\n",
              "      <td>...</td>\n",
              "      <td>0</td>\n",
              "      <td>0</td>\n",
              "      <td>0</td>\n",
              "      <td>0</td>\n",
              "      <td>0</td>\n",
              "      <td>0</td>\n",
              "      <td>0</td>\n",
              "      <td>0</td>\n",
              "      <td>11</td>\n",
              "      <td>f/american_bach_soloists-j_s__bach_solo_cantat...</td>\n",
              "    </tr>\n",
              "    <tr>\n",
              "      <th>4</th>\n",
              "      <td>0</td>\n",
              "      <td>0</td>\n",
              "      <td>0</td>\n",
              "      <td>0</td>\n",
              "      <td>0</td>\n",
              "      <td>0</td>\n",
              "      <td>0</td>\n",
              "      <td>1</td>\n",
              "      <td>0</td>\n",
              "      <td>0</td>\n",
              "      <td>...</td>\n",
              "      <td>0</td>\n",
              "      <td>0</td>\n",
              "      <td>1</td>\n",
              "      <td>0</td>\n",
              "      <td>0</td>\n",
              "      <td>0</td>\n",
              "      <td>1</td>\n",
              "      <td>0</td>\n",
              "      <td>12</td>\n",
              "      <td>f/american_bach_soloists-j_s__bach_solo_cantat...</td>\n",
              "    </tr>\n",
              "  </tbody>\n",
              "</table>\n",
              "<p>5 rows × 52 columns</p>\n",
              "</div>"
            ],
            "text/plain": [
              "   ambient  baroque  bass  beat  cello  chant  choir  classical  country  \\\n",
              "0        0        0     0     0      0      0      0          1        0   \n",
              "1        0        1     0     0      0      0      0          1        0   \n",
              "2        0        0     0     0      0      0      0          1        0   \n",
              "3        0        0     0     0      0      0      0          0        0   \n",
              "4        0        0     0     0      0      0      0          1        0   \n",
              "\n",
              "   dance                        ...                          solo  strange  \\\n",
              "0      0                        ...                             0        0   \n",
              "1      0                        ...                             0        0   \n",
              "2      0                        ...                             0        0   \n",
              "3      0                        ...                             0        0   \n",
              "4      0                        ...                             0        0   \n",
              "\n",
              "   string  synth  techno  trance  violin  vocal  clip_id  \\\n",
              "0       1      0       0       0       1      0        2   \n",
              "1       1      0       0       0       1      0        6   \n",
              "2       0      0       0       0       0      0       10   \n",
              "3       0      0       0       0       0      0       11   \n",
              "4       1      0       0       0       1      0       12   \n",
              "\n",
              "                                            mp3_path  \n",
              "0  f/american_bach_soloists-j_s__bach_solo_cantat...  \n",
              "1  f/american_bach_soloists-j_s__bach_solo_cantat...  \n",
              "2  f/american_bach_soloists-j_s__bach_solo_cantat...  \n",
              "3  f/american_bach_soloists-j_s__bach_solo_cantat...  \n",
              "4  f/american_bach_soloists-j_s__bach_solo_cantat...  \n",
              "\n",
              "[5 rows x 52 columns]"
            ]
          },
          "metadata": {
            "tags": []
          },
          "execution_count": 33
        }
      ]
    },
    {
      "metadata": {
        "id": "hRAbpXo0-xvj",
        "colab_type": "text"
      },
      "cell_type": "markdown",
      "source": [
        "# testing goes here"
      ]
    },
    {
      "metadata": {
        "id": "2RfbDMvw8Pdc",
        "colab_type": "code",
        "colab": {}
      },
      "cell_type": "code",
      "source": [
        "annotations_newest = annotations.head(5)"
      ],
      "execution_count": 0,
      "outputs": []
    },
    {
      "metadata": {
        "id": "NFNM6pvL8Pjy",
        "colab_type": "code",
        "colab": {
          "base_uri": "https://localhost:8080/",
          "height": 334
        },
        "outputId": "b21c8013-f326-4442-d721-b468d316e4be"
      },
      "cell_type": "code",
      "source": [
        "annotations_newest"
      ],
      "execution_count": 37,
      "outputs": [
        {
          "output_type": "execute_result",
          "data": {
            "text/html": [
              "<div>\n",
              "<style scoped>\n",
              "    .dataframe tbody tr th:only-of-type {\n",
              "        vertical-align: middle;\n",
              "    }\n",
              "\n",
              "    .dataframe tbody tr th {\n",
              "        vertical-align: top;\n",
              "    }\n",
              "\n",
              "    .dataframe thead th {\n",
              "        text-align: right;\n",
              "    }\n",
              "</style>\n",
              "<table border=\"1\" class=\"dataframe\">\n",
              "  <thead>\n",
              "    <tr style=\"text-align: right;\">\n",
              "      <th></th>\n",
              "      <th>ambient</th>\n",
              "      <th>baroque</th>\n",
              "      <th>bass</th>\n",
              "      <th>beat</th>\n",
              "      <th>cello</th>\n",
              "      <th>chant</th>\n",
              "      <th>choir</th>\n",
              "      <th>classical</th>\n",
              "      <th>country</th>\n",
              "      <th>dance</th>\n",
              "      <th>...</th>\n",
              "      <th>solo</th>\n",
              "      <th>strange</th>\n",
              "      <th>string</th>\n",
              "      <th>synth</th>\n",
              "      <th>techno</th>\n",
              "      <th>trance</th>\n",
              "      <th>violin</th>\n",
              "      <th>vocal</th>\n",
              "      <th>clip_id</th>\n",
              "      <th>mp3_path</th>\n",
              "    </tr>\n",
              "  </thead>\n",
              "  <tbody>\n",
              "    <tr>\n",
              "      <th>0</th>\n",
              "      <td>0</td>\n",
              "      <td>0</td>\n",
              "      <td>0</td>\n",
              "      <td>0</td>\n",
              "      <td>0</td>\n",
              "      <td>0</td>\n",
              "      <td>0</td>\n",
              "      <td>1</td>\n",
              "      <td>0</td>\n",
              "      <td>0</td>\n",
              "      <td>...</td>\n",
              "      <td>0</td>\n",
              "      <td>0</td>\n",
              "      <td>1</td>\n",
              "      <td>0</td>\n",
              "      <td>0</td>\n",
              "      <td>0</td>\n",
              "      <td>1</td>\n",
              "      <td>0</td>\n",
              "      <td>2</td>\n",
              "      <td>f/american_bach_soloists-j_s__bach_solo_cantat...</td>\n",
              "    </tr>\n",
              "    <tr>\n",
              "      <th>1</th>\n",
              "      <td>0</td>\n",
              "      <td>1</td>\n",
              "      <td>0</td>\n",
              "      <td>0</td>\n",
              "      <td>0</td>\n",
              "      <td>0</td>\n",
              "      <td>0</td>\n",
              "      <td>1</td>\n",
              "      <td>0</td>\n",
              "      <td>0</td>\n",
              "      <td>...</td>\n",
              "      <td>0</td>\n",
              "      <td>0</td>\n",
              "      <td>1</td>\n",
              "      <td>0</td>\n",
              "      <td>0</td>\n",
              "      <td>0</td>\n",
              "      <td>1</td>\n",
              "      <td>0</td>\n",
              "      <td>6</td>\n",
              "      <td>f/american_bach_soloists-j_s__bach_solo_cantat...</td>\n",
              "    </tr>\n",
              "    <tr>\n",
              "      <th>2</th>\n",
              "      <td>0</td>\n",
              "      <td>0</td>\n",
              "      <td>0</td>\n",
              "      <td>0</td>\n",
              "      <td>0</td>\n",
              "      <td>0</td>\n",
              "      <td>0</td>\n",
              "      <td>1</td>\n",
              "      <td>0</td>\n",
              "      <td>0</td>\n",
              "      <td>...</td>\n",
              "      <td>0</td>\n",
              "      <td>0</td>\n",
              "      <td>0</td>\n",
              "      <td>0</td>\n",
              "      <td>0</td>\n",
              "      <td>0</td>\n",
              "      <td>0</td>\n",
              "      <td>0</td>\n",
              "      <td>10</td>\n",
              "      <td>f/american_bach_soloists-j_s__bach_solo_cantat...</td>\n",
              "    </tr>\n",
              "    <tr>\n",
              "      <th>3</th>\n",
              "      <td>0</td>\n",
              "      <td>0</td>\n",
              "      <td>0</td>\n",
              "      <td>0</td>\n",
              "      <td>0</td>\n",
              "      <td>0</td>\n",
              "      <td>0</td>\n",
              "      <td>0</td>\n",
              "      <td>0</td>\n",
              "      <td>0</td>\n",
              "      <td>...</td>\n",
              "      <td>0</td>\n",
              "      <td>0</td>\n",
              "      <td>0</td>\n",
              "      <td>0</td>\n",
              "      <td>0</td>\n",
              "      <td>0</td>\n",
              "      <td>0</td>\n",
              "      <td>0</td>\n",
              "      <td>11</td>\n",
              "      <td>f/american_bach_soloists-j_s__bach_solo_cantat...</td>\n",
              "    </tr>\n",
              "    <tr>\n",
              "      <th>4</th>\n",
              "      <td>0</td>\n",
              "      <td>0</td>\n",
              "      <td>0</td>\n",
              "      <td>0</td>\n",
              "      <td>0</td>\n",
              "      <td>0</td>\n",
              "      <td>0</td>\n",
              "      <td>1</td>\n",
              "      <td>0</td>\n",
              "      <td>0</td>\n",
              "      <td>...</td>\n",
              "      <td>0</td>\n",
              "      <td>0</td>\n",
              "      <td>1</td>\n",
              "      <td>0</td>\n",
              "      <td>0</td>\n",
              "      <td>0</td>\n",
              "      <td>1</td>\n",
              "      <td>0</td>\n",
              "      <td>12</td>\n",
              "      <td>f/american_bach_soloists-j_s__bach_solo_cantat...</td>\n",
              "    </tr>\n",
              "  </tbody>\n",
              "</table>\n",
              "<p>5 rows × 52 columns</p>\n",
              "</div>"
            ],
            "text/plain": [
              "   ambient  baroque  bass  beat  cello  chant  choir  classical  country  \\\n",
              "0        0        0     0     0      0      0      0          1        0   \n",
              "1        0        1     0     0      0      0      0          1        0   \n",
              "2        0        0     0     0      0      0      0          1        0   \n",
              "3        0        0     0     0      0      0      0          0        0   \n",
              "4        0        0     0     0      0      0      0          1        0   \n",
              "\n",
              "   dance                        ...                          solo  strange  \\\n",
              "0      0                        ...                             0        0   \n",
              "1      0                        ...                             0        0   \n",
              "2      0                        ...                             0        0   \n",
              "3      0                        ...                             0        0   \n",
              "4      0                        ...                             0        0   \n",
              "\n",
              "   string  synth  techno  trance  violin  vocal  clip_id  \\\n",
              "0       1      0       0       0       1      0        2   \n",
              "1       1      0       0       0       1      0        6   \n",
              "2       0      0       0       0       0      0       10   \n",
              "3       0      0       0       0       0      0       11   \n",
              "4       1      0       0       0       1      0       12   \n",
              "\n",
              "                                            mp3_path  \n",
              "0  f/american_bach_soloists-j_s__bach_solo_cantat...  \n",
              "1  f/american_bach_soloists-j_s__bach_solo_cantat...  \n",
              "2  f/american_bach_soloists-j_s__bach_solo_cantat...  \n",
              "3  f/american_bach_soloists-j_s__bach_solo_cantat...  \n",
              "4  f/american_bach_soloists-j_s__bach_solo_cantat...  \n",
              "\n",
              "[5 rows x 52 columns]"
            ]
          },
          "metadata": {
            "tags": []
          },
          "execution_count": 37
        }
      ]
    },
    {
      "metadata": {
        "id": "-cVrYtQh8PnI",
        "colab_type": "code",
        "colab": {}
      },
      "cell_type": "code",
      "source": [
        "clip_address = annotations_newest[['mp3_path']]"
      ],
      "execution_count": 0,
      "outputs": []
    },
    {
      "metadata": {
        "id": "mZ8fl3WP8Pq1",
        "colab_type": "code",
        "colab": {
          "base_uri": "https://localhost:8080/",
          "height": 198
        },
        "outputId": "25ec2b2c-2657-485a-8efe-d44101f19cef"
      },
      "cell_type": "code",
      "source": [
        "clip_address"
      ],
      "execution_count": 44,
      "outputs": [
        {
          "output_type": "execute_result",
          "data": {
            "text/html": [
              "<div>\n",
              "<style scoped>\n",
              "    .dataframe tbody tr th:only-of-type {\n",
              "        vertical-align: middle;\n",
              "    }\n",
              "\n",
              "    .dataframe tbody tr th {\n",
              "        vertical-align: top;\n",
              "    }\n",
              "\n",
              "    .dataframe thead th {\n",
              "        text-align: right;\n",
              "    }\n",
              "</style>\n",
              "<table border=\"1\" class=\"dataframe\">\n",
              "  <thead>\n",
              "    <tr style=\"text-align: right;\">\n",
              "      <th></th>\n",
              "      <th>mp3_path</th>\n",
              "    </tr>\n",
              "  </thead>\n",
              "  <tbody>\n",
              "    <tr>\n",
              "      <th>0</th>\n",
              "      <td>f/american_bach_soloists-j_s__bach_solo_cantat...</td>\n",
              "    </tr>\n",
              "    <tr>\n",
              "      <th>1</th>\n",
              "      <td>f/american_bach_soloists-j_s__bach_solo_cantat...</td>\n",
              "    </tr>\n",
              "    <tr>\n",
              "      <th>2</th>\n",
              "      <td>f/american_bach_soloists-j_s__bach_solo_cantat...</td>\n",
              "    </tr>\n",
              "    <tr>\n",
              "      <th>3</th>\n",
              "      <td>f/american_bach_soloists-j_s__bach_solo_cantat...</td>\n",
              "    </tr>\n",
              "    <tr>\n",
              "      <th>4</th>\n",
              "      <td>f/american_bach_soloists-j_s__bach_solo_cantat...</td>\n",
              "    </tr>\n",
              "  </tbody>\n",
              "</table>\n",
              "</div>"
            ],
            "text/plain": [
              "                                            mp3_path\n",
              "0  f/american_bach_soloists-j_s__bach_solo_cantat...\n",
              "1  f/american_bach_soloists-j_s__bach_solo_cantat...\n",
              "2  f/american_bach_soloists-j_s__bach_solo_cantat...\n",
              "3  f/american_bach_soloists-j_s__bach_solo_cantat...\n",
              "4  f/american_bach_soloists-j_s__bach_solo_cantat..."
            ]
          },
          "metadata": {
            "tags": []
          },
          "execution_count": 44
        }
      ]
    },
    {
      "metadata": {
        "id": "Sua9bhCP8Pu5",
        "colab_type": "code",
        "colab": {}
      },
      "cell_type": "code",
      "source": [
        "# drop clip_id and mp3_path to proceed with distribution counts\n",
        "annotations_newest = annotations_newest[annotations_newest.columns.difference(['clip_id', 'mp3_path'])]"
      ],
      "execution_count": 0,
      "outputs": []
    },
    {
      "metadata": {
        "id": "RbahWWFP_LXF",
        "colab_type": "code",
        "colab": {
          "base_uri": "https://localhost:8080/",
          "height": 247
        },
        "outputId": "3eb0006d-66f1-441a-e602-a97954d8b1aa"
      },
      "cell_type": "code",
      "source": [
        "annotations_newest"
      ],
      "execution_count": 46,
      "outputs": [
        {
          "output_type": "execute_result",
          "data": {
            "text/html": [
              "<div>\n",
              "<style scoped>\n",
              "    .dataframe tbody tr th:only-of-type {\n",
              "        vertical-align: middle;\n",
              "    }\n",
              "\n",
              "    .dataframe tbody tr th {\n",
              "        vertical-align: top;\n",
              "    }\n",
              "\n",
              "    .dataframe thead th {\n",
              "        text-align: right;\n",
              "    }\n",
              "</style>\n",
              "<table border=\"1\" class=\"dataframe\">\n",
              "  <thead>\n",
              "    <tr style=\"text-align: right;\">\n",
              "      <th></th>\n",
              "      <th>ambient</th>\n",
              "      <th>baroque</th>\n",
              "      <th>bass</th>\n",
              "      <th>beat</th>\n",
              "      <th>cello</th>\n",
              "      <th>chant</th>\n",
              "      <th>choir</th>\n",
              "      <th>classical</th>\n",
              "      <th>country</th>\n",
              "      <th>dance</th>\n",
              "      <th>...</th>\n",
              "      <th>slow</th>\n",
              "      <th>soft</th>\n",
              "      <th>solo</th>\n",
              "      <th>strange</th>\n",
              "      <th>string</th>\n",
              "      <th>synth</th>\n",
              "      <th>techno</th>\n",
              "      <th>trance</th>\n",
              "      <th>violin</th>\n",
              "      <th>vocal</th>\n",
              "    </tr>\n",
              "  </thead>\n",
              "  <tbody>\n",
              "    <tr>\n",
              "      <th>0</th>\n",
              "      <td>0</td>\n",
              "      <td>0</td>\n",
              "      <td>0</td>\n",
              "      <td>0</td>\n",
              "      <td>0</td>\n",
              "      <td>0</td>\n",
              "      <td>0</td>\n",
              "      <td>1</td>\n",
              "      <td>0</td>\n",
              "      <td>0</td>\n",
              "      <td>...</td>\n",
              "      <td>0</td>\n",
              "      <td>0</td>\n",
              "      <td>0</td>\n",
              "      <td>0</td>\n",
              "      <td>1</td>\n",
              "      <td>0</td>\n",
              "      <td>0</td>\n",
              "      <td>0</td>\n",
              "      <td>1</td>\n",
              "      <td>0</td>\n",
              "    </tr>\n",
              "    <tr>\n",
              "      <th>1</th>\n",
              "      <td>0</td>\n",
              "      <td>1</td>\n",
              "      <td>0</td>\n",
              "      <td>0</td>\n",
              "      <td>0</td>\n",
              "      <td>0</td>\n",
              "      <td>0</td>\n",
              "      <td>1</td>\n",
              "      <td>0</td>\n",
              "      <td>0</td>\n",
              "      <td>...</td>\n",
              "      <td>0</td>\n",
              "      <td>0</td>\n",
              "      <td>0</td>\n",
              "      <td>0</td>\n",
              "      <td>1</td>\n",
              "      <td>0</td>\n",
              "      <td>0</td>\n",
              "      <td>0</td>\n",
              "      <td>1</td>\n",
              "      <td>0</td>\n",
              "    </tr>\n",
              "    <tr>\n",
              "      <th>2</th>\n",
              "      <td>0</td>\n",
              "      <td>0</td>\n",
              "      <td>0</td>\n",
              "      <td>0</td>\n",
              "      <td>0</td>\n",
              "      <td>0</td>\n",
              "      <td>0</td>\n",
              "      <td>1</td>\n",
              "      <td>0</td>\n",
              "      <td>0</td>\n",
              "      <td>...</td>\n",
              "      <td>0</td>\n",
              "      <td>0</td>\n",
              "      <td>0</td>\n",
              "      <td>0</td>\n",
              "      <td>0</td>\n",
              "      <td>0</td>\n",
              "      <td>0</td>\n",
              "      <td>0</td>\n",
              "      <td>0</td>\n",
              "      <td>0</td>\n",
              "    </tr>\n",
              "    <tr>\n",
              "      <th>3</th>\n",
              "      <td>0</td>\n",
              "      <td>0</td>\n",
              "      <td>0</td>\n",
              "      <td>0</td>\n",
              "      <td>0</td>\n",
              "      <td>0</td>\n",
              "      <td>0</td>\n",
              "      <td>0</td>\n",
              "      <td>0</td>\n",
              "      <td>0</td>\n",
              "      <td>...</td>\n",
              "      <td>0</td>\n",
              "      <td>0</td>\n",
              "      <td>0</td>\n",
              "      <td>0</td>\n",
              "      <td>0</td>\n",
              "      <td>0</td>\n",
              "      <td>0</td>\n",
              "      <td>0</td>\n",
              "      <td>0</td>\n",
              "      <td>0</td>\n",
              "    </tr>\n",
              "    <tr>\n",
              "      <th>4</th>\n",
              "      <td>0</td>\n",
              "      <td>0</td>\n",
              "      <td>0</td>\n",
              "      <td>0</td>\n",
              "      <td>0</td>\n",
              "      <td>0</td>\n",
              "      <td>0</td>\n",
              "      <td>1</td>\n",
              "      <td>0</td>\n",
              "      <td>0</td>\n",
              "      <td>...</td>\n",
              "      <td>0</td>\n",
              "      <td>0</td>\n",
              "      <td>0</td>\n",
              "      <td>0</td>\n",
              "      <td>1</td>\n",
              "      <td>0</td>\n",
              "      <td>0</td>\n",
              "      <td>0</td>\n",
              "      <td>1</td>\n",
              "      <td>0</td>\n",
              "    </tr>\n",
              "  </tbody>\n",
              "</table>\n",
              "<p>5 rows × 50 columns</p>\n",
              "</div>"
            ],
            "text/plain": [
              "   ambient  baroque  bass  beat  cello  chant  choir  classical  country  \\\n",
              "0        0        0     0     0      0      0      0          1        0   \n",
              "1        0        1     0     0      0      0      0          1        0   \n",
              "2        0        0     0     0      0      0      0          1        0   \n",
              "3        0        0     0     0      0      0      0          0        0   \n",
              "4        0        0     0     0      0      0      0          1        0   \n",
              "\n",
              "   dance  ...    slow  soft  solo  strange  string  synth  techno  trance  \\\n",
              "0      0  ...       0     0     0        0       1      0       0       0   \n",
              "1      0  ...       0     0     0        0       1      0       0       0   \n",
              "2      0  ...       0     0     0        0       0      0       0       0   \n",
              "3      0  ...       0     0     0        0       0      0       0       0   \n",
              "4      0  ...       0     0     0        0       1      0       0       0   \n",
              "\n",
              "   violin  vocal  \n",
              "0       1      0  \n",
              "1       1      0  \n",
              "2       0      0  \n",
              "3       0      0  \n",
              "4       1      0  \n",
              "\n",
              "[5 rows x 50 columns]"
            ]
          },
          "metadata": {
            "tags": []
          },
          "execution_count": 46
        }
      ]
    },
    {
      "metadata": {
        "id": "KIXbWPva_LfU",
        "colab_type": "code",
        "colab": {}
      },
      "cell_type": "code",
      "source": [
        "numpy_array = annotations_newest.values"
      ],
      "execution_count": 0,
      "outputs": []
    },
    {
      "metadata": {
        "id": "k8CuuLb8_Lm4",
        "colab_type": "code",
        "colab": {
          "base_uri": "https://localhost:8080/",
          "height": 290
        },
        "outputId": "0ef73c12-c716-4ef3-e40f-26186f08b9e0"
      },
      "cell_type": "code",
      "source": [
        "numpy_array"
      ],
      "execution_count": 51,
      "outputs": [
        {
          "output_type": "execute_result",
          "data": {
            "text/plain": [
              "array([[0, 0, 0, 0, 0, 0, 0, 1, 0, 0, 0, 0, 0, 0, 0, 0, 0, 0, 0, 0, 0, 0,\n",
              "        0, 0, 0, 0, 0, 0, 0, 0, 0, 0, 1, 0, 0, 0, 0, 0, 0, 0, 0, 0, 0, 0,\n",
              "        1, 0, 0, 0, 1, 0],\n",
              "       [0, 1, 0, 0, 0, 0, 0, 1, 0, 0, 0, 0, 0, 0, 0, 0, 0, 0, 0, 0, 0, 0,\n",
              "        0, 0, 0, 0, 0, 0, 0, 0, 0, 0, 1, 0, 0, 0, 0, 0, 0, 0, 0, 0, 0, 0,\n",
              "        1, 0, 0, 0, 1, 0],\n",
              "       [0, 0, 0, 0, 0, 0, 0, 1, 0, 0, 0, 0, 0, 0, 0, 0, 0, 0, 0, 0, 0, 0,\n",
              "        0, 0, 0, 0, 0, 0, 0, 0, 0, 0, 1, 0, 0, 0, 0, 0, 0, 0, 0, 0, 0, 0,\n",
              "        0, 0, 0, 0, 0, 0],\n",
              "       [0, 0, 0, 0, 0, 0, 0, 0, 0, 0, 0, 0, 0, 0, 0, 0, 0, 0, 0, 0, 0, 0,\n",
              "        0, 0, 0, 0, 0, 0, 0, 0, 0, 0, 1, 0, 0, 0, 1, 0, 0, 0, 0, 0, 0, 0,\n",
              "        0, 0, 0, 0, 0, 0],\n",
              "       [0, 0, 0, 0, 0, 0, 0, 1, 0, 0, 0, 0, 0, 0, 0, 0, 0, 0, 0, 0, 0, 0,\n",
              "        0, 0, 0, 0, 0, 0, 0, 0, 0, 0, 0, 0, 0, 0, 0, 0, 0, 0, 0, 0, 0, 0,\n",
              "        1, 0, 0, 0, 1, 0]])"
            ]
          },
          "metadata": {
            "tags": []
          },
          "execution_count": 51
        }
      ]
    },
    {
      "metadata": {
        "id": "R_0sY2n-_LlC",
        "colab_type": "code",
        "colab": {
          "base_uri": "https://localhost:8080/",
          "height": 35
        },
        "outputId": "7162e89b-775a-4ce3-a0c7-b1a6af57ffe5"
      },
      "cell_type": "code",
      "source": [
        "print(numpy_array.shape)"
      ],
      "execution_count": 52,
      "outputs": [
        {
          "output_type": "stream",
          "text": [
            "(5, 50)\n"
          ],
          "name": "stdout"
        }
      ]
    },
    {
      "metadata": {
        "id": "-nQZ9bNk_Ljd",
        "colab_type": "code",
        "colab": {
          "base_uri": "https://localhost:8080/",
          "height": 290
        },
        "outputId": "ec9024a9-6524-4df0-9f84-7e6a9c6362f8"
      },
      "cell_type": "code",
      "source": [
        "for index, row in clip_address.iterrows() :\n",
        "  var = row['mp3_path']\n",
        "  print(var)\n",
        "  print(index)\n",
        "  print(numpy_array[index].shape)"
      ],
      "execution_count": 61,
      "outputs": [
        {
          "output_type": "stream",
          "text": [
            "f/american_bach_soloists-j_s__bach_solo_cantatas-01-bwv54__i_aria-30-59.mp3\n",
            "0\n",
            "(50,)\n",
            "f/american_bach_soloists-j_s__bach_solo_cantatas-01-bwv54__i_aria-146-175.mp3\n",
            "1\n",
            "(50,)\n",
            "f/american_bach_soloists-j_s__bach_solo_cantatas-01-bwv54__i_aria-262-291.mp3\n",
            "2\n",
            "(50,)\n",
            "f/american_bach_soloists-j_s__bach_solo_cantatas-01-bwv54__i_aria-291-320.mp3\n",
            "3\n",
            "(50,)\n",
            "f/american_bach_soloists-j_s__bach_solo_cantatas-01-bwv54__i_aria-320-349.mp3\n",
            "4\n",
            "(50,)\n"
          ],
          "name": "stdout"
        }
      ]
    },
    {
      "metadata": {
        "id": "r82q5uDo6TRf",
        "colab_type": "code",
        "colab": {}
      },
      "cell_type": "code",
      "source": [
        "list_data = []\n",
        "savename = \"file.npy\"\n",
        "\n",
        "for index, row in clip_address.iterrows() :\n",
        "  path = '/content/' + row['mp3_path']\n",
        "  wavedata, samplerate = librosa.load(path, sr=2108)\n",
        "  wavedata = wavedata[np.newaxis, :]\n",
        "  list_data.append(wavedata)\n",
        "  \n",
        "np.save(\"list_data_demo\" + savename, list_data)"
      ],
      "execution_count": 0,
      "outputs": []
    },
    {
      "metadata": {
        "id": "1Ow-4l35Bhca",
        "colab_type": "code",
        "colab": {}
      },
      "cell_type": "code",
      "source": [
        "list_data = np.load(\"list_data_demo\" + savename)"
      ],
      "execution_count": 0,
      "outputs": []
    },
    {
      "metadata": {
        "id": "bXdQSjZaBlhX",
        "colab_type": "code",
        "colab": {
          "base_uri": "https://localhost:8080/",
          "height": 35
        },
        "outputId": "435680fa-df89-4f56-cc7a-5a9a02de270a"
      },
      "cell_type": "code",
      "source": [
        "list_data.shape"
      ],
      "execution_count": 66,
      "outputs": [
        {
          "output_type": "execute_result",
          "data": {
            "text/plain": [
              "(5, 1, 61394)"
            ]
          },
          "metadata": {
            "tags": []
          },
          "execution_count": 66
        }
      ]
    },
    {
      "metadata": {
        "id": "uwOcbXGz6gcs",
        "colab_type": "code",
        "colab": {}
      },
      "cell_type": "code",
      "source": [
        "list_data = [] \n",
        "classes = [] \n",
        "load = None\n",
        "savename = \"offseti2-duration2.npy\"\n",
        "\n",
        "start = time.time()\n",
        "\n",
        "for c in classes_temp:\n",
        "  for root, subdirs, files in os.walk(os.path.join(AUDIO_PATH, c)):\n",
        "    for file in files:\n",
        "      for i in range(0, 20, 2):\n",
        "        filepath = os.path.join(root, file)    \n",
        "        wavedata, samplerate = librosa.load(filepath, sr=None, mono=True, offset=i, duration=2)    \n",
        "        wavedata = wavedata[np.newaxis, :]\n",
        "        list_data.append(wavedata)\n",
        "        classes.append(c)\n",
        "\n",
        "np.save(\"list_data-\" + savename, list_data)\n",
        "np.save(\"classes-\" + savename, classes)\n",
        "print(time.time() - start)"
      ],
      "execution_count": 0,
      "outputs": []
    },
    {
      "metadata": {
        "id": "Yv64XvjzCT65",
        "colab_type": "code",
        "colab": {
          "base_uri": "https://localhost:8080/",
          "height": 163
        },
        "outputId": "74bb3dc5-5160-450a-d37e-13c829224d7e"
      },
      "cell_type": "code",
      "source": [
        "!ls"
      ],
      "execution_count": 68,
      "outputs": [
        {
          "output_type": "stream",
          "text": [
            "0  8\t\t\t       clip_file.csv\t       mp3.zip.002\n",
            "1  9\t\t\t       d\t\t       mp3.zip.003\n",
            "2  a\t\t\t       e\t\t       npy_files_TOTAL_train\n",
            "3  annotations_final.csv       f\t\t       sample_data\n",
            "4  annotations_final_new2.csv  features_id_mp3\t       wav_files_TOTAL\n",
            "5  annotations_final_new.csv   list_data_demofile.npy\n",
            "6  b\t\t\t       mp3_all.zip\n",
            "7  c\t\t\t       mp3.zip.001\n"
          ],
          "name": "stdout"
        }
      ]
    },
    {
      "metadata": {
        "id": "HpacyVJWCUFs",
        "colab_type": "code",
        "colab": {}
      },
      "cell_type": "code",
      "source": [
        "from google.colab import files"
      ],
      "execution_count": 0,
      "outputs": []
    },
    {
      "metadata": {
        "id": "-bb9TmT5CUqD",
        "colab_type": "code",
        "colab": {}
      },
      "cell_type": "code",
      "source": [
        "files.download('list_data_demofile.npy')"
      ],
      "execution_count": 0,
      "outputs": []
    },
    {
      "metadata": {
        "id": "km_i5jQQCaNR",
        "colab_type": "code",
        "colab": {}
      },
      "cell_type": "code",
      "source": [
        ""
      ],
      "execution_count": 0,
      "outputs": []
    }
  ]
}