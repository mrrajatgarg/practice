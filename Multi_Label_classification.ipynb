{
  "nbformat": 4,
  "nbformat_minor": 0,
  "metadata": {
    "colab": {
      "name": "Multi_Label_classification.ipynb",
      "version": "0.3.2",
      "provenance": [],
      "collapsed_sections": [],
      "include_colab_link": true
    },
    "kernelspec": {
      "name": "python3",
      "display_name": "Python 3"
    },
    "accelerator": "GPU"
  },
  "cells": [
    {
      "cell_type": "markdown",
      "metadata": {
        "id": "view-in-github",
        "colab_type": "text"
      },
      "source": [
        "<a href=\"https://colab.research.google.com/github/mrrajatgarg/practice/blob/master/Multi_Label_classification.ipynb\" target=\"_parent\"><img src=\"https://colab.research.google.com/assets/colab-badge.svg\" alt=\"Open In Colab\"/></a>"
      ]
    },
    {
      "metadata": {
        "id": "zKxhDCdFyC4A",
        "colab_type": "code",
        "colab": {
          "base_uri": "https://localhost:8080/",
          "height": 308
        },
        "outputId": "d39b8e6d-7f40-4fb4-cfa3-d0c138dcc3dd"
      },
      "cell_type": "code",
      "source": [
        "!wget http://mi.soi.city.ac.uk/datasets/magnatagatune/mp3.zip.001"
      ],
      "execution_count": 1,
      "outputs": [
        {
          "output_type": "stream",
          "text": [
            "--2019-01-29 08:49:28--  http://mi.soi.city.ac.uk/datasets/magnatagatune/mp3.zip.001\n",
            "Resolving mi.soi.city.ac.uk (mi.soi.city.ac.uk)... 138.40.77.76\n",
            "Connecting to mi.soi.city.ac.uk (mi.soi.city.ac.uk)|138.40.77.76|:80... connected.\n",
            "HTTP request sent, awaiting response... 301 Moved Permanently\n",
            "Location: http://mirg.city.ac.uk/datasets/magnatagatune/mp3.zip.001 [following]\n",
            "--2019-01-29 08:49:28--  http://mirg.city.ac.uk/datasets/magnatagatune/mp3.zip.001\n",
            "Resolving mirg.city.ac.uk (mirg.city.ac.uk)... 138.40.249.100\n",
            "Connecting to mirg.city.ac.uk (mirg.city.ac.uk)|138.40.249.100|:80... connected.\n",
            "HTTP request sent, awaiting response... 200 OK\n",
            "Length: 1100000000 (1.0G) [application/zip]\n",
            "Saving to: ‘mp3.zip.001’\n",
            "\n",
            "mp3.zip.001         100%[===================>]   1.02G  64.4MB/s    in 15s     \n",
            "\n",
            "2019-01-29 08:49:43 (68.1 MB/s) - ‘mp3.zip.001’ saved [1100000000/1100000000]\n",
            "\n"
          ],
          "name": "stdout"
        }
      ]
    },
    {
      "metadata": {
        "id": "kQkp5bDry4eZ",
        "colab_type": "code",
        "colab": {
          "base_uri": "https://localhost:8080/",
          "height": 308
        },
        "outputId": "5744d6bd-40f1-4615-8f18-328e49596e8e"
      },
      "cell_type": "code",
      "source": [
        "!wget http://mi.soi.city.ac.uk/datasets/magnatagatune/mp3.zip.002"
      ],
      "execution_count": 2,
      "outputs": [
        {
          "output_type": "stream",
          "text": [
            "--2019-01-29 08:50:13--  http://mi.soi.city.ac.uk/datasets/magnatagatune/mp3.zip.002\n",
            "Resolving mi.soi.city.ac.uk (mi.soi.city.ac.uk)... 138.40.77.76\n",
            "Connecting to mi.soi.city.ac.uk (mi.soi.city.ac.uk)|138.40.77.76|:80... connected.\n",
            "HTTP request sent, awaiting response... 301 Moved Permanently\n",
            "Location: http://mirg.city.ac.uk/datasets/magnatagatune/mp3.zip.002 [following]\n",
            "--2019-01-29 08:50:13--  http://mirg.city.ac.uk/datasets/magnatagatune/mp3.zip.002\n",
            "Resolving mirg.city.ac.uk (mirg.city.ac.uk)... 138.40.249.100\n",
            "Connecting to mirg.city.ac.uk (mirg.city.ac.uk)|138.40.249.100|:80... connected.\n",
            "HTTP request sent, awaiting response... 200 OK\n",
            "Length: 1100000000 (1.0G) [application/zip]\n",
            "Saving to: ‘mp3.zip.002’\n",
            "\n",
            "mp3.zip.002         100%[===================>]   1.02G  90.8MB/s    in 17s     \n",
            "\n",
            "2019-01-29 08:50:30 (61.0 MB/s) - ‘mp3.zip.002’ saved [1100000000/1100000000]\n",
            "\n"
          ],
          "name": "stdout"
        }
      ]
    },
    {
      "metadata": {
        "id": "f68piJpZzKC6",
        "colab_type": "code",
        "colab": {
          "base_uri": "https://localhost:8080/",
          "height": 308
        },
        "outputId": "8270a480-cb5d-4c01-891d-d62ffb4685fb"
      },
      "cell_type": "code",
      "source": [
        "!wget http://mi.soi.city.ac.uk/datasets/magnatagatune/mp3.zip.003"
      ],
      "execution_count": 3,
      "outputs": [
        {
          "output_type": "stream",
          "text": [
            "--2019-01-29 08:50:34--  http://mi.soi.city.ac.uk/datasets/magnatagatune/mp3.zip.003\n",
            "Resolving mi.soi.city.ac.uk (mi.soi.city.ac.uk)... 138.40.77.76\n",
            "Connecting to mi.soi.city.ac.uk (mi.soi.city.ac.uk)|138.40.77.76|:80... connected.\n",
            "HTTP request sent, awaiting response... 301 Moved Permanently\n",
            "Location: http://mirg.city.ac.uk/datasets/magnatagatune/mp3.zip.003 [following]\n",
            "--2019-01-29 08:50:34--  http://mirg.city.ac.uk/datasets/magnatagatune/mp3.zip.003\n",
            "Resolving mirg.city.ac.uk (mirg.city.ac.uk)... 138.40.249.100\n",
            "Connecting to mirg.city.ac.uk (mirg.city.ac.uk)|138.40.249.100|:80... connected.\n",
            "HTTP request sent, awaiting response... 200 OK\n",
            "Length: 772769864 (737M) [application/zip]\n",
            "Saving to: ‘mp3.zip.003’\n",
            "\n",
            "mp3.zip.003         100%[===================>] 736.97M   102MB/s    in 8.7s    \n",
            "\n",
            "2019-01-29 08:50:43 (85.2 MB/s) - ‘mp3.zip.003’ saved [772769864/772769864]\n",
            "\n"
          ],
          "name": "stdout"
        }
      ]
    },
    {
      "metadata": {
        "id": "0kWFDDV_zPXe",
        "colab_type": "code",
        "colab": {
          "base_uri": "https://localhost:8080/",
          "height": 35
        },
        "outputId": "f2cacd29-b412-4133-fec9-90d9a610c1c3"
      },
      "cell_type": "code",
      "source": [
        "!ls"
      ],
      "execution_count": 4,
      "outputs": [
        {
          "output_type": "stream",
          "text": [
            "mp3.zip.001  mp3.zip.002  mp3.zip.003  sample_data\n"
          ],
          "name": "stdout"
        }
      ]
    },
    {
      "metadata": {
        "id": "oDxvB2XkzS-6",
        "colab_type": "code",
        "colab": {}
      },
      "cell_type": "code",
      "source": [
        "!cat mp3.zip.* > mp3_all.zip"
      ],
      "execution_count": 0,
      "outputs": []
    },
    {
      "metadata": {
        "id": "HDEYnxjBzYfY",
        "colab_type": "code",
        "colab": {
          "base_uri": "https://localhost:8080/",
          "height": 35
        },
        "outputId": "774f3db1-aabe-4a7d-d4d2-76a818127e2f"
      },
      "cell_type": "code",
      "source": [
        "!ls"
      ],
      "execution_count": 6,
      "outputs": [
        {
          "output_type": "stream",
          "text": [
            "mp3_all.zip  mp3.zip.001  mp3.zip.002  mp3.zip.003  sample_data\n"
          ],
          "name": "stdout"
        }
      ]
    },
    {
      "metadata": {
        "id": "W_hn9XQnziUe",
        "colab_type": "code",
        "colab": {}
      },
      "cell_type": "code",
      "source": [
        "!unzip mp3_all.zip"
      ],
      "execution_count": 0,
      "outputs": []
    },
    {
      "metadata": {
        "id": "gFa_yF6Nzkye",
        "colab_type": "code",
        "colab": {
          "base_uri": "https://localhost:8080/",
          "height": 54
        },
        "outputId": "e2ec404c-be48-4d2b-e6a9-7a4cca83ca18"
      },
      "cell_type": "code",
      "source": [
        "!ls"
      ],
      "execution_count": 8,
      "outputs": [
        {
          "output_type": "stream",
          "text": [
            "0  2  4  6  8  a  c  e\tmp3_all.zip  mp3.zip.002  sample_data\n",
            "1  3  5  7  9  b  d  f\tmp3.zip.001  mp3.zip.003\n"
          ],
          "name": "stdout"
        }
      ]
    },
    {
      "metadata": {
        "id": "VYW5Ughz4AN6",
        "colab_type": "code",
        "colab": {
          "base_uri": "https://localhost:8080/",
          "height": 35
        },
        "outputId": "cacbcb9f-3764-4426-8ba2-c69445d519d7"
      },
      "cell_type": "code",
      "source": [
        "cd 0"
      ],
      "execution_count": 12,
      "outputs": [
        {
          "output_type": "stream",
          "text": [
            "/content/0\n"
          ],
          "name": "stdout"
        }
      ]
    },
    {
      "metadata": {
        "id": "GigoQEZ84Pg3",
        "colab_type": "code",
        "colab": {
          "base_uri": "https://localhost:8080/",
          "height": 35
        },
        "outputId": "3df7b617-9436-4578-fe63-3466a27e918f"
      },
      "cell_type": "code",
      "source": [
        "cd /content/"
      ],
      "execution_count": 14,
      "outputs": [
        {
          "output_type": "stream",
          "text": [
            "/content\n"
          ],
          "name": "stdout"
        }
      ]
    },
    {
      "metadata": {
        "id": "8u4gATz84T5O",
        "colab_type": "code",
        "colab": {
          "base_uri": "https://localhost:8080/",
          "height": 54
        },
        "outputId": "6d8d2d69-ec06-4848-8201-12d5d4cc1164"
      },
      "cell_type": "code",
      "source": [
        "!ls"
      ],
      "execution_count": 15,
      "outputs": [
        {
          "output_type": "stream",
          "text": [
            "0  2  4  6  8  a  c  e\tmp3_all.zip  mp3.zip.002  sample_data\n",
            "1  3  5  7  9  b  d  f\tmp3.zip.001  mp3.zip.003\n"
          ],
          "name": "stdout"
        }
      ]
    },
    {
      "metadata": {
        "id": "1ZcLDwXGDDQN",
        "colab_type": "code",
        "colab": {
          "base_uri": "https://localhost:8080/",
          "height": 308
        },
        "outputId": "b83fd73b-cdb2-475a-999c-f1c38f7d8bf3"
      },
      "cell_type": "code",
      "source": [
        "!wget http://mi.soi.city.ac.uk/datasets/magnatagatune/annotations_final.csv"
      ],
      "execution_count": 16,
      "outputs": [
        {
          "output_type": "stream",
          "text": [
            "--2019-01-29 10:44:38--  http://mi.soi.city.ac.uk/datasets/magnatagatune/annotations_final.csv\n",
            "Resolving mi.soi.city.ac.uk (mi.soi.city.ac.uk)... 138.40.77.76\n",
            "Connecting to mi.soi.city.ac.uk (mi.soi.city.ac.uk)|138.40.77.76|:80... connected.\n",
            "HTTP request sent, awaiting response... 301 Moved Permanently\n",
            "Location: http://mirg.city.ac.uk/datasets/magnatagatune/annotations_final.csv [following]\n",
            "--2019-01-29 10:44:38--  http://mirg.city.ac.uk/datasets/magnatagatune/annotations_final.csv\n",
            "Resolving mirg.city.ac.uk (mirg.city.ac.uk)... 138.40.249.100\n",
            "Connecting to mirg.city.ac.uk (mirg.city.ac.uk)|138.40.249.100|:80... connected.\n",
            "HTTP request sent, awaiting response... 200 OK\n",
            "Length: 21517373 (21M) [text/csv]\n",
            "Saving to: ‘annotations_final.csv’\n",
            "\n",
            "\rannotations_final.c   0%[                    ]       0  --.-KB/s               \rannotations_final.c  18%[==>                 ]   3.81M  19.0MB/s               \rannotations_final.c  73%[=============>      ]  15.02M  37.5MB/s               \rannotations_final.c 100%[===================>]  20.52M  44.7MB/s    in 0.5s    \n",
            "\n",
            "2019-01-29 10:44:38 (44.7 MB/s) - ‘annotations_final.csv’ saved [21517373/21517373]\n",
            "\n"
          ],
          "name": "stdout"
        }
      ]
    },
    {
      "metadata": {
        "id": "nvocshI5NWGS",
        "colab_type": "code",
        "colab": {
          "base_uri": "https://localhost:8080/",
          "height": 72
        },
        "outputId": "19176838-0d14-492b-9bb6-2680b02e44e0"
      },
      "cell_type": "code",
      "source": [
        "!ls"
      ],
      "execution_count": 17,
      "outputs": [
        {
          "output_type": "stream",
          "text": [
            "0  3  6  9\t\t\tb  e\t\tmp3.zip.001  sample_data\n",
            "1  4  7  a\t\t\tc  f\t\tmp3.zip.002\n",
            "2  5  8  annotations_final.csv\td  mp3_all.zip\tmp3.zip.003\n"
          ],
          "name": "stdout"
        }
      ]
    },
    {
      "metadata": {
        "id": "bNbUU8CmRSqp",
        "colab_type": "text"
      },
      "cell_type": "markdown",
      "source": [
        "# 1_label_reduction_and_files_renaming.py"
      ]
    },
    {
      "metadata": {
        "id": "ERURDpZhNX5R",
        "colab_type": "code",
        "colab": {}
      },
      "cell_type": "code",
      "source": [
        "import pandas as pd\n",
        "import numpy as np\n",
        "import os\n",
        "import shutil"
      ],
      "execution_count": 0,
      "outputs": []
    },
    {
      "metadata": {
        "id": "-lpA9FTqRWr9",
        "colab_type": "code",
        "colab": {}
      },
      "cell_type": "code",
      "source": [
        "# Set directory path where downloaded csv with labels is stored\n",
        "directory_labels = '/content/'"
      ],
      "execution_count": 0,
      "outputs": []
    },
    {
      "metadata": {
        "id": "SuF5aqIwRbT_",
        "colab_type": "code",
        "colab": {}
      },
      "cell_type": "code",
      "source": [
        "# Set directory path where downloaded mp3 files are stored in a COMMON FOLDER\n",
        "# i.e. all subfolders have been removed using the following bash script:\n",
        "# find . -mindepth 2 -type f -print -exec mv {} . \\;\n",
        "directory_files = '/content/'"
      ],
      "execution_count": 0,
      "outputs": []
    },
    {
      "metadata": {
        "id": "RIAvLO7RRoVl",
        "colab_type": "code",
        "colab": {}
      },
      "cell_type": "code",
      "source": [
        "# Load the annotations file (prior to execution check correctness of delimiter)\n",
        "annotations = pd.read_csv(directory_labels + 'annotations_final.csv', sep=\"\\t\")"
      ],
      "execution_count": 0,
      "outputs": []
    },
    {
      "metadata": {
        "id": "kXDGgZoXRrut",
        "colab_type": "code",
        "colab": {
          "base_uri": "https://localhost:8080/",
          "height": 108
        },
        "outputId": "6310db5c-7067-4aac-ede4-cb4d188c3d3c"
      },
      "cell_type": "code",
      "source": [
        "# check size of annotations\n",
        "annotations.info()"
      ],
      "execution_count": 21,
      "outputs": [
        {
          "output_type": "stream",
          "text": [
            "<class 'pandas.core.frame.DataFrame'>\n",
            "RangeIndex: 25863 entries, 0 to 25862\n",
            "Columns: 190 entries, clip_id to mp3_path\n",
            "dtypes: int64(189), object(1)\n",
            "memory usage: 37.5+ MB\n"
          ],
          "name": "stdout"
        }
      ]
    },
    {
      "metadata": {
        "id": "RgmXxf2URubs",
        "colab_type": "code",
        "colab": {
          "base_uri": "https://localhost:8080/",
          "height": 351
        },
        "outputId": "68f7cc28-138f-47cc-c91b-d0a7ba1fe121"
      },
      "cell_type": "code",
      "source": [
        "# ensure correct loading\n",
        "annotations.head(5)"
      ],
      "execution_count": 24,
      "outputs": [
        {
          "output_type": "execute_result",
          "data": {
            "text/html": [
              "<div>\n",
              "<style scoped>\n",
              "    .dataframe tbody tr th:only-of-type {\n",
              "        vertical-align: middle;\n",
              "    }\n",
              "\n",
              "    .dataframe tbody tr th {\n",
              "        vertical-align: top;\n",
              "    }\n",
              "\n",
              "    .dataframe thead th {\n",
              "        text-align: right;\n",
              "    }\n",
              "</style>\n",
              "<table border=\"1\" class=\"dataframe\">\n",
              "  <thead>\n",
              "    <tr style=\"text-align: right;\">\n",
              "      <th></th>\n",
              "      <th>clip_id</th>\n",
              "      <th>no voice</th>\n",
              "      <th>singer</th>\n",
              "      <th>duet</th>\n",
              "      <th>plucking</th>\n",
              "      <th>hard rock</th>\n",
              "      <th>world</th>\n",
              "      <th>bongos</th>\n",
              "      <th>harpsichord</th>\n",
              "      <th>female singing</th>\n",
              "      <th>...</th>\n",
              "      <th>rap</th>\n",
              "      <th>metal</th>\n",
              "      <th>hip hop</th>\n",
              "      <th>quick</th>\n",
              "      <th>water</th>\n",
              "      <th>baroque</th>\n",
              "      <th>women</th>\n",
              "      <th>fiddle</th>\n",
              "      <th>english</th>\n",
              "      <th>mp3_path</th>\n",
              "    </tr>\n",
              "  </thead>\n",
              "  <tbody>\n",
              "    <tr>\n",
              "      <th>0</th>\n",
              "      <td>2</td>\n",
              "      <td>0</td>\n",
              "      <td>0</td>\n",
              "      <td>0</td>\n",
              "      <td>0</td>\n",
              "      <td>0</td>\n",
              "      <td>0</td>\n",
              "      <td>0</td>\n",
              "      <td>0</td>\n",
              "      <td>0</td>\n",
              "      <td>...</td>\n",
              "      <td>0</td>\n",
              "      <td>0</td>\n",
              "      <td>0</td>\n",
              "      <td>0</td>\n",
              "      <td>0</td>\n",
              "      <td>0</td>\n",
              "      <td>0</td>\n",
              "      <td>0</td>\n",
              "      <td>0</td>\n",
              "      <td>f/american_bach_soloists-j_s__bach_solo_cantat...</td>\n",
              "    </tr>\n",
              "    <tr>\n",
              "      <th>1</th>\n",
              "      <td>6</td>\n",
              "      <td>0</td>\n",
              "      <td>0</td>\n",
              "      <td>0</td>\n",
              "      <td>0</td>\n",
              "      <td>0</td>\n",
              "      <td>0</td>\n",
              "      <td>0</td>\n",
              "      <td>0</td>\n",
              "      <td>0</td>\n",
              "      <td>...</td>\n",
              "      <td>0</td>\n",
              "      <td>0</td>\n",
              "      <td>0</td>\n",
              "      <td>0</td>\n",
              "      <td>0</td>\n",
              "      <td>1</td>\n",
              "      <td>0</td>\n",
              "      <td>0</td>\n",
              "      <td>0</td>\n",
              "      <td>f/american_bach_soloists-j_s__bach_solo_cantat...</td>\n",
              "    </tr>\n",
              "    <tr>\n",
              "      <th>2</th>\n",
              "      <td>10</td>\n",
              "      <td>0</td>\n",
              "      <td>0</td>\n",
              "      <td>0</td>\n",
              "      <td>0</td>\n",
              "      <td>0</td>\n",
              "      <td>0</td>\n",
              "      <td>0</td>\n",
              "      <td>0</td>\n",
              "      <td>0</td>\n",
              "      <td>...</td>\n",
              "      <td>0</td>\n",
              "      <td>0</td>\n",
              "      <td>0</td>\n",
              "      <td>0</td>\n",
              "      <td>0</td>\n",
              "      <td>0</td>\n",
              "      <td>0</td>\n",
              "      <td>0</td>\n",
              "      <td>0</td>\n",
              "      <td>f/american_bach_soloists-j_s__bach_solo_cantat...</td>\n",
              "    </tr>\n",
              "    <tr>\n",
              "      <th>3</th>\n",
              "      <td>11</td>\n",
              "      <td>0</td>\n",
              "      <td>0</td>\n",
              "      <td>0</td>\n",
              "      <td>0</td>\n",
              "      <td>0</td>\n",
              "      <td>0</td>\n",
              "      <td>0</td>\n",
              "      <td>0</td>\n",
              "      <td>0</td>\n",
              "      <td>...</td>\n",
              "      <td>0</td>\n",
              "      <td>0</td>\n",
              "      <td>0</td>\n",
              "      <td>0</td>\n",
              "      <td>0</td>\n",
              "      <td>0</td>\n",
              "      <td>0</td>\n",
              "      <td>0</td>\n",
              "      <td>0</td>\n",
              "      <td>f/american_bach_soloists-j_s__bach_solo_cantat...</td>\n",
              "    </tr>\n",
              "    <tr>\n",
              "      <th>4</th>\n",
              "      <td>12</td>\n",
              "      <td>0</td>\n",
              "      <td>0</td>\n",
              "      <td>0</td>\n",
              "      <td>0</td>\n",
              "      <td>0</td>\n",
              "      <td>0</td>\n",
              "      <td>0</td>\n",
              "      <td>0</td>\n",
              "      <td>0</td>\n",
              "      <td>...</td>\n",
              "      <td>0</td>\n",
              "      <td>0</td>\n",
              "      <td>0</td>\n",
              "      <td>0</td>\n",
              "      <td>0</td>\n",
              "      <td>0</td>\n",
              "      <td>0</td>\n",
              "      <td>0</td>\n",
              "      <td>0</td>\n",
              "      <td>f/american_bach_soloists-j_s__bach_solo_cantat...</td>\n",
              "    </tr>\n",
              "  </tbody>\n",
              "</table>\n",
              "<p>5 rows × 190 columns</p>\n",
              "</div>"
            ],
            "text/plain": [
              "   clip_id  no voice  singer  duet  plucking  hard rock  world  bongos  \\\n",
              "0        2         0       0     0         0          0      0       0   \n",
              "1        6         0       0     0         0          0      0       0   \n",
              "2       10         0       0     0         0          0      0       0   \n",
              "3       11         0       0     0         0          0      0       0   \n",
              "4       12         0       0     0         0          0      0       0   \n",
              "\n",
              "   harpsichord  female singing  \\\n",
              "0            0               0   \n",
              "1            0               0   \n",
              "2            0               0   \n",
              "3            0               0   \n",
              "4            0               0   \n",
              "\n",
              "                         ...                          rap  metal  hip hop  \\\n",
              "0                        ...                            0      0        0   \n",
              "1                        ...                            0      0        0   \n",
              "2                        ...                            0      0        0   \n",
              "3                        ...                            0      0        0   \n",
              "4                        ...                            0      0        0   \n",
              "\n",
              "   quick  water  baroque  women  fiddle  english  \\\n",
              "0      0      0        0      0       0        0   \n",
              "1      0      0        1      0       0        0   \n",
              "2      0      0        0      0       0        0   \n",
              "3      0      0        0      0       0        0   \n",
              "4      0      0        0      0       0        0   \n",
              "\n",
              "                                            mp3_path  \n",
              "0  f/american_bach_soloists-j_s__bach_solo_cantat...  \n",
              "1  f/american_bach_soloists-j_s__bach_solo_cantat...  \n",
              "2  f/american_bach_soloists-j_s__bach_solo_cantat...  \n",
              "3  f/american_bach_soloists-j_s__bach_solo_cantat...  \n",
              "4  f/american_bach_soloists-j_s__bach_solo_cantat...  \n",
              "\n",
              "[5 rows x 190 columns]"
            ]
          },
          "metadata": {
            "tags": []
          },
          "execution_count": 24
        }
      ]
    },
    {
      "metadata": {
        "id": "JSTWE_k5R47H",
        "colab_type": "code",
        "colab": {
          "base_uri": "https://localhost:8080/",
          "height": 126
        },
        "outputId": "10c40802-1b6d-4cea-ceb5-08343be06b91"
      },
      "cell_type": "code",
      "source": [
        "# initial number of columns: 190\n",
        "annotations.columns"
      ],
      "execution_count": 25,
      "outputs": [
        {
          "output_type": "execute_result",
          "data": {
            "text/plain": [
              "Index(['clip_id', 'no voice', 'singer', 'duet', 'plucking', 'hard rock',\n",
              "       'world', 'bongos', 'harpsichord', 'female singing',\n",
              "       ...\n",
              "       'rap', 'metal', 'hip hop', 'quick', 'water', 'baroque', 'women',\n",
              "       'fiddle', 'english', 'mp3_path'],\n",
              "      dtype='object', length=190)"
            ]
          },
          "metadata": {
            "tags": []
          },
          "execution_count": 25
        }
      ]
    },
    {
      "metadata": {
        "id": "qvZtGTtbSG7W",
        "colab_type": "code",
        "colab": {}
      },
      "cell_type": "code",
      "source": [
        "# merge synonym tags\n",
        "synonyms = [['beat', 'beats'],\n",
        "            ['chant', 'chanting'],\n",
        "            ['choir', 'choral'],\n",
        "            ['classical', 'clasical', 'classic'],\n",
        "            ['drum', 'drums'],\n",
        "            ['electro', 'electronic', 'electronica', 'electric'],\n",
        "            ['fast', 'fast beat', 'quick'],\n",
        "            ['female', 'female singer', 'female singing', 'female vocals', 'female vocal', 'female voice', 'woman', 'woman singing', 'women'],\n",
        "            ['flute', 'flutes'],\n",
        "            ['guitar', 'guitars'],\n",
        "            ['hard', 'hard rock'],\n",
        "            ['harpsichord', 'harpsicord'],\n",
        "            ['heavy', 'heavy metal', 'metal'],\n",
        "            ['horn', 'horns'],\n",
        "            ['india', 'indian'],\n",
        "            ['jazz', 'jazzy'],\n",
        "            ['male', 'male singer', 'male vocal', 'male vocals', 'male voice', 'man', 'man singing', 'men'],\n",
        "            ['no beat', 'no drums'],\n",
        "            ['no singer', 'no singing', 'no vocal','no vocals', 'no voice', 'no voices', 'instrumental'],\n",
        "            ['opera', 'operatic'],\n",
        "            ['orchestra', 'orchestral'],\n",
        "            ['quiet', 'silence'],\n",
        "            ['singer', 'singing'],\n",
        "            ['space', 'spacey'],\n",
        "            ['string', 'strings'],\n",
        "            ['synth', 'synthesizer'],\n",
        "            ['violin', 'violins'],\n",
        "            ['vocal', 'vocals', 'voice', 'voices'],\n",
        "            ['strange', 'weird']]"
      ],
      "execution_count": 0,
      "outputs": []
    },
    {
      "metadata": {
        "id": "S0SIpgcOSLfm",
        "colab_type": "code",
        "colab": {}
      },
      "cell_type": "code",
      "source": [
        "# replace all synonym words with the first in the list constructed above\n",
        "for synonym_list in synonyms:\n",
        "    annotations[synonym_list[0]] = annotations[synonym_list].max(axis=1)\n",
        "    annotations.drop(synonym_list[1:], axis=1, inplace=True)"
      ],
      "execution_count": 0,
      "outputs": []
    },
    {
      "metadata": {
        "id": "Y1vXRXqkSOwQ",
        "colab_type": "code",
        "colab": {
          "base_uri": "https://localhost:8080/",
          "height": 108
        },
        "outputId": "90aa6eb4-c9dd-41f1-e1a5-653ed63f418b"
      },
      "cell_type": "code",
      "source": [
        "# check results\n",
        "# previously: Columns: 190 entries, clip_id to mp3_path &  memory usage: 37.5+ MB\n",
        "# now: Columns: 136 entries, clip_id to mp3_path & memory usage: 26.8+ MB\n",
        "annotations.info()"
      ],
      "execution_count": 28,
      "outputs": [
        {
          "output_type": "stream",
          "text": [
            "<class 'pandas.core.frame.DataFrame'>\n",
            "RangeIndex: 25863 entries, 0 to 25862\n",
            "Columns: 136 entries, clip_id to mp3_path\n",
            "dtypes: int64(135), object(1)\n",
            "memory usage: 26.8+ MB\n"
          ],
          "name": "stdout"
        }
      ]
    },
    {
      "metadata": {
        "id": "vtLDpw1YSRXy",
        "colab_type": "code",
        "colab": {}
      },
      "cell_type": "code",
      "source": [
        "# keep clip_id and mp3_path in a different matrix to bind later\n",
        "annotations_ids = annotations[['clip_id', 'mp3_path']]"
      ],
      "execution_count": 0,
      "outputs": []
    },
    {
      "metadata": {
        "id": "lx8fi5IQSVz0",
        "colab_type": "code",
        "colab": {}
      },
      "cell_type": "code",
      "source": [
        "# drop clip_id and mp3_path to proceed with distribution counts\n",
        "annotations = annotations[annotations.columns.difference(['clip_id', 'mp3_path'])]"
      ],
      "execution_count": 0,
      "outputs": []
    },
    {
      "metadata": {
        "id": "fI6b5_AfSZb1",
        "colab_type": "code",
        "colab": {}
      },
      "cell_type": "code",
      "source": [
        "# tags' distribution\n",
        "tags_distro = annotations.sum(axis=0)\n",
        "# sort tags according to their occurencies \n",
        "tags_distro.sort_values(axis=0, inplace=True, ascending = False)"
      ],
      "execution_count": 0,
      "outputs": []
    },
    {
      "metadata": {
        "id": "lXXThWc3SeJl",
        "colab_type": "code",
        "colab": {}
      },
      "cell_type": "code",
      "source": [
        "#find 50 top tags\n",
        "topindex, topvalues = list(tags_distro.index[:50]), tags_distro.values[:50]"
      ],
      "execution_count": 0,
      "outputs": []
    },
    {
      "metadata": {
        "id": "o_ljHaNgShA6",
        "colab_type": "code",
        "colab": {}
      },
      "cell_type": "code",
      "source": [
        "# list of columns to remove from annotation file (not common labels)\n",
        "rem_cols_index =list(tags_distro.index[50:])"
      ],
      "execution_count": 0,
      "outputs": []
    },
    {
      "metadata": {
        "id": "CAdA-N9lSmtN",
        "colab_type": "code",
        "colab": {
          "base_uri": "https://localhost:8080/",
          "height": 35
        },
        "outputId": "43373632-53a6-4110-bbe1-e08c9d992e53"
      },
      "cell_type": "code",
      "source": [
        "#check how many columns we are about to remove\n",
        "len(rem_cols_index) "
      ],
      "execution_count": 34,
      "outputs": [
        {
          "output_type": "execute_result",
          "data": {
            "text/plain": [
              "84"
            ]
          },
          "metadata": {
            "tags": []
          },
          "execution_count": 34
        }
      ]
    },
    {
      "metadata": {
        "id": "0QJlIbrjSo23",
        "colab_type": "code",
        "colab": {}
      },
      "cell_type": "code",
      "source": [
        "# keep only the 50 most common tags\n",
        "annotations.drop(rem_cols_index, axis=1, inplace=True)"
      ],
      "execution_count": 0,
      "outputs": []
    },
    {
      "metadata": {
        "id": "IBPmioISSraW",
        "colab_type": "code",
        "colab": {}
      },
      "cell_type": "code",
      "source": [
        "# bind back clip_id and mp3_path\n",
        "annotations['clip_id'] = annotations_ids['clip_id']\n",
        "annotations['mp3_path'] = annotations_ids['mp3_path']"
      ],
      "execution_count": 0,
      "outputs": []
    },
    {
      "metadata": {
        "id": "EWohF4xTSuuG",
        "colab_type": "code",
        "colab": {
          "base_uri": "https://localhost:8080/",
          "height": 334
        },
        "outputId": "7b6da365-c626-4cf3-c8d9-5c85bb47be74"
      },
      "cell_type": "code",
      "source": [
        "# ensure correct binding\n",
        "annotations.head(5)"
      ],
      "execution_count": 37,
      "outputs": [
        {
          "output_type": "execute_result",
          "data": {
            "text/html": [
              "<div>\n",
              "<style scoped>\n",
              "    .dataframe tbody tr th:only-of-type {\n",
              "        vertical-align: middle;\n",
              "    }\n",
              "\n",
              "    .dataframe tbody tr th {\n",
              "        vertical-align: top;\n",
              "    }\n",
              "\n",
              "    .dataframe thead th {\n",
              "        text-align: right;\n",
              "    }\n",
              "</style>\n",
              "<table border=\"1\" class=\"dataframe\">\n",
              "  <thead>\n",
              "    <tr style=\"text-align: right;\">\n",
              "      <th></th>\n",
              "      <th>ambient</th>\n",
              "      <th>baroque</th>\n",
              "      <th>bass</th>\n",
              "      <th>beat</th>\n",
              "      <th>cello</th>\n",
              "      <th>chant</th>\n",
              "      <th>choir</th>\n",
              "      <th>classical</th>\n",
              "      <th>country</th>\n",
              "      <th>dance</th>\n",
              "      <th>...</th>\n",
              "      <th>solo</th>\n",
              "      <th>strange</th>\n",
              "      <th>string</th>\n",
              "      <th>synth</th>\n",
              "      <th>techno</th>\n",
              "      <th>trance</th>\n",
              "      <th>violin</th>\n",
              "      <th>vocal</th>\n",
              "      <th>clip_id</th>\n",
              "      <th>mp3_path</th>\n",
              "    </tr>\n",
              "  </thead>\n",
              "  <tbody>\n",
              "    <tr>\n",
              "      <th>0</th>\n",
              "      <td>0</td>\n",
              "      <td>0</td>\n",
              "      <td>0</td>\n",
              "      <td>0</td>\n",
              "      <td>0</td>\n",
              "      <td>0</td>\n",
              "      <td>0</td>\n",
              "      <td>1</td>\n",
              "      <td>0</td>\n",
              "      <td>0</td>\n",
              "      <td>...</td>\n",
              "      <td>0</td>\n",
              "      <td>0</td>\n",
              "      <td>1</td>\n",
              "      <td>0</td>\n",
              "      <td>0</td>\n",
              "      <td>0</td>\n",
              "      <td>1</td>\n",
              "      <td>0</td>\n",
              "      <td>2</td>\n",
              "      <td>f/american_bach_soloists-j_s__bach_solo_cantat...</td>\n",
              "    </tr>\n",
              "    <tr>\n",
              "      <th>1</th>\n",
              "      <td>0</td>\n",
              "      <td>1</td>\n",
              "      <td>0</td>\n",
              "      <td>0</td>\n",
              "      <td>0</td>\n",
              "      <td>0</td>\n",
              "      <td>0</td>\n",
              "      <td>1</td>\n",
              "      <td>0</td>\n",
              "      <td>0</td>\n",
              "      <td>...</td>\n",
              "      <td>0</td>\n",
              "      <td>0</td>\n",
              "      <td>1</td>\n",
              "      <td>0</td>\n",
              "      <td>0</td>\n",
              "      <td>0</td>\n",
              "      <td>1</td>\n",
              "      <td>0</td>\n",
              "      <td>6</td>\n",
              "      <td>f/american_bach_soloists-j_s__bach_solo_cantat...</td>\n",
              "    </tr>\n",
              "    <tr>\n",
              "      <th>2</th>\n",
              "      <td>0</td>\n",
              "      <td>0</td>\n",
              "      <td>0</td>\n",
              "      <td>0</td>\n",
              "      <td>0</td>\n",
              "      <td>0</td>\n",
              "      <td>0</td>\n",
              "      <td>1</td>\n",
              "      <td>0</td>\n",
              "      <td>0</td>\n",
              "      <td>...</td>\n",
              "      <td>0</td>\n",
              "      <td>0</td>\n",
              "      <td>0</td>\n",
              "      <td>0</td>\n",
              "      <td>0</td>\n",
              "      <td>0</td>\n",
              "      <td>0</td>\n",
              "      <td>0</td>\n",
              "      <td>10</td>\n",
              "      <td>f/american_bach_soloists-j_s__bach_solo_cantat...</td>\n",
              "    </tr>\n",
              "    <tr>\n",
              "      <th>3</th>\n",
              "      <td>0</td>\n",
              "      <td>0</td>\n",
              "      <td>0</td>\n",
              "      <td>0</td>\n",
              "      <td>0</td>\n",
              "      <td>0</td>\n",
              "      <td>0</td>\n",
              "      <td>0</td>\n",
              "      <td>0</td>\n",
              "      <td>0</td>\n",
              "      <td>...</td>\n",
              "      <td>0</td>\n",
              "      <td>0</td>\n",
              "      <td>0</td>\n",
              "      <td>0</td>\n",
              "      <td>0</td>\n",
              "      <td>0</td>\n",
              "      <td>0</td>\n",
              "      <td>0</td>\n",
              "      <td>11</td>\n",
              "      <td>f/american_bach_soloists-j_s__bach_solo_cantat...</td>\n",
              "    </tr>\n",
              "    <tr>\n",
              "      <th>4</th>\n",
              "      <td>0</td>\n",
              "      <td>0</td>\n",
              "      <td>0</td>\n",
              "      <td>0</td>\n",
              "      <td>0</td>\n",
              "      <td>0</td>\n",
              "      <td>0</td>\n",
              "      <td>1</td>\n",
              "      <td>0</td>\n",
              "      <td>0</td>\n",
              "      <td>...</td>\n",
              "      <td>0</td>\n",
              "      <td>0</td>\n",
              "      <td>1</td>\n",
              "      <td>0</td>\n",
              "      <td>0</td>\n",
              "      <td>0</td>\n",
              "      <td>1</td>\n",
              "      <td>0</td>\n",
              "      <td>12</td>\n",
              "      <td>f/american_bach_soloists-j_s__bach_solo_cantat...</td>\n",
              "    </tr>\n",
              "  </tbody>\n",
              "</table>\n",
              "<p>5 rows × 52 columns</p>\n",
              "</div>"
            ],
            "text/plain": [
              "   ambient  baroque  bass  beat  cello  chant  choir  classical  country  \\\n",
              "0        0        0     0     0      0      0      0          1        0   \n",
              "1        0        1     0     0      0      0      0          1        0   \n",
              "2        0        0     0     0      0      0      0          1        0   \n",
              "3        0        0     0     0      0      0      0          0        0   \n",
              "4        0        0     0     0      0      0      0          1        0   \n",
              "\n",
              "   dance                        ...                          solo  strange  \\\n",
              "0      0                        ...                             0        0   \n",
              "1      0                        ...                             0        0   \n",
              "2      0                        ...                             0        0   \n",
              "3      0                        ...                             0        0   \n",
              "4      0                        ...                             0        0   \n",
              "\n",
              "   string  synth  techno  trance  violin  vocal  clip_id  \\\n",
              "0       1      0       0       0       1      0        2   \n",
              "1       1      0       0       0       1      0        6   \n",
              "2       0      0       0       0       0      0       10   \n",
              "3       0      0       0       0       0      0       11   \n",
              "4       1      0       0       0       1      0       12   \n",
              "\n",
              "                                            mp3_path  \n",
              "0  f/american_bach_soloists-j_s__bach_solo_cantat...  \n",
              "1  f/american_bach_soloists-j_s__bach_solo_cantat...  \n",
              "2  f/american_bach_soloists-j_s__bach_solo_cantat...  \n",
              "3  f/american_bach_soloists-j_s__bach_solo_cantat...  \n",
              "4  f/american_bach_soloists-j_s__bach_solo_cantat...  \n",
              "\n",
              "[5 rows x 52 columns]"
            ]
          },
          "metadata": {
            "tags": []
          },
          "execution_count": 37
        }
      ]
    },
    {
      "metadata": {
        "id": "1MSNUitqSw98",
        "colab_type": "code",
        "colab": {
          "base_uri": "https://localhost:8080/",
          "height": 1054
        },
        "outputId": "8a94bbc5-eeab-4915-9165-5c86301f7915"
      },
      "cell_type": "code",
      "source": [
        "# check results\n",
        "# previously: Columns: 136 entries, clip_id to mp3_path & memory usage: 26.8+ MB\n",
        "# now: Columns: 52 entries, clip_id to mp3_path &  memory usage: 10.1 MB\n",
        "annotations.info()"
      ],
      "execution_count": 38,
      "outputs": [
        {
          "output_type": "stream",
          "text": [
            "<class 'pandas.core.frame.DataFrame'>\n",
            "RangeIndex: 25863 entries, 0 to 25862\n",
            "Data columns (total 52 columns):\n",
            "ambient        25863 non-null int64\n",
            "baroque        25863 non-null int64\n",
            "bass           25863 non-null int64\n",
            "beat           25863 non-null int64\n",
            "cello          25863 non-null int64\n",
            "chant          25863 non-null int64\n",
            "choir          25863 non-null int64\n",
            "classical      25863 non-null int64\n",
            "country        25863 non-null int64\n",
            "dance          25863 non-null int64\n",
            "drum           25863 non-null int64\n",
            "eastern        25863 non-null int64\n",
            "electro        25863 non-null int64\n",
            "fast           25863 non-null int64\n",
            "female         25863 non-null int64\n",
            "flute          25863 non-null int64\n",
            "folk           25863 non-null int64\n",
            "foreign        25863 non-null int64\n",
            "guitar         25863 non-null int64\n",
            "hard           25863 non-null int64\n",
            "harp           25863 non-null int64\n",
            "harpsichord    25863 non-null int64\n",
            "heavy          25863 non-null int64\n",
            "india          25863 non-null int64\n",
            "jazz           25863 non-null int64\n",
            "loud           25863 non-null int64\n",
            "male           25863 non-null int64\n",
            "modern         25863 non-null int64\n",
            "new age        25863 non-null int64\n",
            "no beat        25863 non-null int64\n",
            "no piano       25863 non-null int64\n",
            "no singer      25863 non-null int64\n",
            "opera          25863 non-null int64\n",
            "orchestra      25863 non-null int64\n",
            "piano          25863 non-null int64\n",
            "pop            25863 non-null int64\n",
            "quiet          25863 non-null int64\n",
            "rock           25863 non-null int64\n",
            "singer         25863 non-null int64\n",
            "sitar          25863 non-null int64\n",
            "slow           25863 non-null int64\n",
            "soft           25863 non-null int64\n",
            "solo           25863 non-null int64\n",
            "strange        25863 non-null int64\n",
            "string         25863 non-null int64\n",
            "synth          25863 non-null int64\n",
            "techno         25863 non-null int64\n",
            "trance         25863 non-null int64\n",
            "violin         25863 non-null int64\n",
            "vocal          25863 non-null int64\n",
            "clip_id        25863 non-null int64\n",
            "mp3_path       25863 non-null object\n",
            "dtypes: int64(51), object(1)\n",
            "memory usage: 10.3+ MB\n"
          ],
          "name": "stdout"
        }
      ]
    },
    {
      "metadata": {
        "id": "q76RwgIPS3UG",
        "colab_type": "code",
        "colab": {
          "base_uri": "https://localhost:8080/",
          "height": 126
        },
        "outputId": "2b40eff6-d508-4d83-ca4f-b1ff202aabd4"
      },
      "cell_type": "code",
      "source": [
        "# Create concatenation of remaining features for each file\n",
        "annotations_f = annotations[annotations.columns.difference(['clip_id', 'mp3_path'])]\n",
        "annotations_f['features_id'] = annotations_f.apply(lambda x: ''.join(x.astype(str)), axis=1)\n",
        "annotations['features_id']=annotations_f['features_id'].astype(str)+'_'+annotations['clip_id'].astype(str)\n",
        "annotations.drop('clip_id', axis=1, inplace=True)"
      ],
      "execution_count": 39,
      "outputs": [
        {
          "output_type": "stream",
          "text": [
            "/usr/local/lib/python3.6/dist-packages/ipykernel_launcher.py:2: SettingWithCopyWarning: \n",
            "A value is trying to be set on a copy of a slice from a DataFrame.\n",
            "Try using .loc[row_indexer,col_indexer] = value instead\n",
            "\n",
            "See the caveats in the documentation: http://pandas.pydata.org/pandas-docs/stable/indexing.html#indexing-view-versus-copy\n",
            "  \n"
          ],
          "name": "stderr"
        }
      ]
    },
    {
      "metadata": {
        "id": "MdM73otNTZ7C",
        "colab_type": "code",
        "colab": {
          "base_uri": "https://localhost:8080/",
          "height": 198
        },
        "outputId": "e834909b-47a0-4020-c093-7718fcab286f"
      },
      "cell_type": "code",
      "source": [
        "# extract clip_id and wav file path : 25863 rows x 2 columns\n",
        "clip_file = annotations[['features_id', 'mp3_path']]\n",
        "clip_file.head(5)"
      ],
      "execution_count": 55,
      "outputs": [
        {
          "output_type": "execute_result",
          "data": {
            "text/html": [
              "<div>\n",
              "<style scoped>\n",
              "    .dataframe tbody tr th:only-of-type {\n",
              "        vertical-align: middle;\n",
              "    }\n",
              "\n",
              "    .dataframe tbody tr th {\n",
              "        vertical-align: top;\n",
              "    }\n",
              "\n",
              "    .dataframe thead th {\n",
              "        text-align: right;\n",
              "    }\n",
              "</style>\n",
              "<table border=\"1\" class=\"dataframe\">\n",
              "  <thead>\n",
              "    <tr style=\"text-align: right;\">\n",
              "      <th></th>\n",
              "      <th>features_id</th>\n",
              "      <th>mp3_path</th>\n",
              "    </tr>\n",
              "  </thead>\n",
              "  <tbody>\n",
              "    <tr>\n",
              "      <th>0</th>\n",
              "      <td>0000000100000000000000000000000010000000000010...</td>\n",
              "      <td>f/american_bach_soloists-j_s__bach_solo_cantat...</td>\n",
              "    </tr>\n",
              "    <tr>\n",
              "      <th>1</th>\n",
              "      <td>0100000100000000000000000000000010000000000010...</td>\n",
              "      <td>f/american_bach_soloists-j_s__bach_solo_cantat...</td>\n",
              "    </tr>\n",
              "    <tr>\n",
              "      <th>2</th>\n",
              "      <td>0000000100000000000000000000000010000000000000...</td>\n",
              "      <td>f/american_bach_soloists-j_s__bach_solo_cantat...</td>\n",
              "    </tr>\n",
              "    <tr>\n",
              "      <th>3</th>\n",
              "      <td>0000000000000000000000000000000010001000000000...</td>\n",
              "      <td>f/american_bach_soloists-j_s__bach_solo_cantat...</td>\n",
              "    </tr>\n",
              "    <tr>\n",
              "      <th>4</th>\n",
              "      <td>0000000100000000000000000000000000000000000010...</td>\n",
              "      <td>f/american_bach_soloists-j_s__bach_solo_cantat...</td>\n",
              "    </tr>\n",
              "  </tbody>\n",
              "</table>\n",
              "</div>"
            ],
            "text/plain": [
              "                                         features_id  \\\n",
              "0  0000000100000000000000000000000010000000000010...   \n",
              "1  0100000100000000000000000000000010000000000010...   \n",
              "2  0000000100000000000000000000000010000000000000...   \n",
              "3  0000000000000000000000000000000010001000000000...   \n",
              "4  0000000100000000000000000000000000000000000010...   \n",
              "\n",
              "                                            mp3_path  \n",
              "0  f/american_bach_soloists-j_s__bach_solo_cantat...  \n",
              "1  f/american_bach_soloists-j_s__bach_solo_cantat...  \n",
              "2  f/american_bach_soloists-j_s__bach_solo_cantat...  \n",
              "3  f/american_bach_soloists-j_s__bach_solo_cantat...  \n",
              "4  f/american_bach_soloists-j_s__bach_solo_cantat...  "
            ]
          },
          "metadata": {
            "tags": []
          },
          "execution_count": 55
        }
      ]
    },
    {
      "metadata": {
        "id": "TtKfiAoqTmLm",
        "colab_type": "code",
        "colab": {}
      },
      "cell_type": "code",
      "source": [
        "# turn previous dataframe into a matrix\n",
        "features_id, mp3_path = annotations[[\"features_id\", \"mp3_path\"]].as_matrix()[:,0], annotations[[\"features_id\", \"mp3_path\"]].as_matrix()[:,1]"
      ],
      "execution_count": 0,
      "outputs": []
    },
    {
      "metadata": {
        "id": "mDQun7I2UyW2",
        "colab_type": "code",
        "colab": {
          "base_uri": "https://localhost:8080/",
          "height": 126
        },
        "outputId": "7b9e1324-035c-4d51-d760-9c843b97449a"
      },
      "cell_type": "code",
      "source": [
        "# some more checks\n",
        "features_id[:5]"
      ],
      "execution_count": 58,
      "outputs": [
        {
          "output_type": "execute_result",
          "data": {
            "text/plain": [
              "array(['00000001000000000000000000000000100000000000100010_2',\n",
              "       '01000001000000000000000000000000100000000000100010_6',\n",
              "       '00000001000000000000000000000000100000000000000000_10',\n",
              "       '00000000000000000000000000000000100010000000000000_11',\n",
              "       '00000001000000000000000000000000000000000000100010_12'],\n",
              "      dtype=object)"
            ]
          },
          "metadata": {
            "tags": []
          },
          "execution_count": 58
        }
      ]
    },
    {
      "metadata": {
        "id": "n6-XR1zJU1-n",
        "colab_type": "code",
        "colab": {
          "base_uri": "https://localhost:8080/",
          "height": 126
        },
        "outputId": "4ea6171e-f829-4f94-889b-68833b0b30fd"
      },
      "cell_type": "code",
      "source": [
        "# some more checks\n",
        "#features_id[:5]\n",
        "mp3_path[:5]\n",
        "#print(len(mp3_path)) 25863"
      ],
      "execution_count": 63,
      "outputs": [
        {
          "output_type": "execute_result",
          "data": {
            "text/plain": [
              "array(['f/american_bach_soloists-j_s__bach_solo_cantatas-01-bwv54__i_aria-30-59.mp3',\n",
              "       'f/american_bach_soloists-j_s__bach_solo_cantatas-01-bwv54__i_aria-146-175.mp3',\n",
              "       'f/american_bach_soloists-j_s__bach_solo_cantatas-01-bwv54__i_aria-262-291.mp3',\n",
              "       'f/american_bach_soloists-j_s__bach_solo_cantatas-01-bwv54__i_aria-291-320.mp3',\n",
              "       'f/american_bach_soloists-j_s__bach_solo_cantatas-01-bwv54__i_aria-320-349.mp3'],\n",
              "      dtype=object)"
            ]
          },
          "metadata": {
            "tags": []
          },
          "execution_count": 63
        }
      ]
    },
    {
      "metadata": {
        "id": "NuYNkAW_WFyk",
        "colab_type": "code",
        "colab": {
          "base_uri": "https://localhost:8080/",
          "height": 35
        },
        "outputId": "17ca4555-cba7-4edc-8cf8-bcb5c594fa93"
      },
      "cell_type": "code",
      "source": [
        "id = 1\n",
        "mp3_path[id]"
      ],
      "execution_count": 65,
      "outputs": [
        {
          "output_type": "execute_result",
          "data": {
            "text/plain": [
              "'f/american_bach_soloists-j_s__bach_solo_cantatas-01-bwv54__i_aria-146-175.mp3'"
            ]
          },
          "metadata": {
            "tags": []
          },
          "execution_count": 65
        }
      ]
    },
    {
      "metadata": {
        "id": "zd4jgKZDssMv",
        "colab_type": "code",
        "colab": {
          "base_uri": "https://localhost:8080/",
          "height": 1054
        },
        "outputId": "60b475f2-942d-47b2-beef-13283ac2f36f"
      },
      "cell_type": "code",
      "source": [
        "annotations.info()"
      ],
      "execution_count": 84,
      "outputs": [
        {
          "output_type": "stream",
          "text": [
            "<class 'pandas.core.frame.DataFrame'>\n",
            "RangeIndex: 25863 entries, 0 to 25862\n",
            "Data columns (total 52 columns):\n",
            "ambient        25863 non-null int64\n",
            "baroque        25863 non-null int64\n",
            "bass           25863 non-null int64\n",
            "beat           25863 non-null int64\n",
            "cello          25863 non-null int64\n",
            "chant          25863 non-null int64\n",
            "choir          25863 non-null int64\n",
            "classical      25863 non-null int64\n",
            "country        25863 non-null int64\n",
            "dance          25863 non-null int64\n",
            "drum           25863 non-null int64\n",
            "eastern        25863 non-null int64\n",
            "electro        25863 non-null int64\n",
            "fast           25863 non-null int64\n",
            "female         25863 non-null int64\n",
            "flute          25863 non-null int64\n",
            "folk           25863 non-null int64\n",
            "foreign        25863 non-null int64\n",
            "guitar         25863 non-null int64\n",
            "hard           25863 non-null int64\n",
            "harp           25863 non-null int64\n",
            "harpsichord    25863 non-null int64\n",
            "heavy          25863 non-null int64\n",
            "india          25863 non-null int64\n",
            "jazz           25863 non-null int64\n",
            "loud           25863 non-null int64\n",
            "male           25863 non-null int64\n",
            "modern         25863 non-null int64\n",
            "new age        25863 non-null int64\n",
            "no beat        25863 non-null int64\n",
            "no piano       25863 non-null int64\n",
            "no singer      25863 non-null int64\n",
            "opera          25863 non-null int64\n",
            "orchestra      25863 non-null int64\n",
            "piano          25863 non-null int64\n",
            "pop            25863 non-null int64\n",
            "quiet          25863 non-null int64\n",
            "rock           25863 non-null int64\n",
            "singer         25863 non-null int64\n",
            "sitar          25863 non-null int64\n",
            "slow           25863 non-null int64\n",
            "soft           25863 non-null int64\n",
            "solo           25863 non-null int64\n",
            "strange        25863 non-null int64\n",
            "string         25863 non-null int64\n",
            "synth          25863 non-null int64\n",
            "techno         25863 non-null int64\n",
            "trance         25863 non-null int64\n",
            "violin         25863 non-null int64\n",
            "vocal          25863 non-null int64\n",
            "mp3_path       25863 non-null object\n",
            "features_id    25863 non-null object\n",
            "dtypes: int64(50), object(2)\n",
            "memory usage: 10.3+ MB\n"
          ],
          "name": "stdout"
        }
      ]
    },
    {
      "metadata": {
        "id": "FzwgBf_ksu5F",
        "colab_type": "code",
        "colab": {
          "base_uri": "https://localhost:8080/",
          "height": 334
        },
        "outputId": "e9e237e9-81a0-4043-a6b5-9e90446e5fff"
      },
      "cell_type": "code",
      "source": [
        "annotations.head(5)"
      ],
      "execution_count": 85,
      "outputs": [
        {
          "output_type": "execute_result",
          "data": {
            "text/html": [
              "<div>\n",
              "<style scoped>\n",
              "    .dataframe tbody tr th:only-of-type {\n",
              "        vertical-align: middle;\n",
              "    }\n",
              "\n",
              "    .dataframe tbody tr th {\n",
              "        vertical-align: top;\n",
              "    }\n",
              "\n",
              "    .dataframe thead th {\n",
              "        text-align: right;\n",
              "    }\n",
              "</style>\n",
              "<table border=\"1\" class=\"dataframe\">\n",
              "  <thead>\n",
              "    <tr style=\"text-align: right;\">\n",
              "      <th></th>\n",
              "      <th>ambient</th>\n",
              "      <th>baroque</th>\n",
              "      <th>bass</th>\n",
              "      <th>beat</th>\n",
              "      <th>cello</th>\n",
              "      <th>chant</th>\n",
              "      <th>choir</th>\n",
              "      <th>classical</th>\n",
              "      <th>country</th>\n",
              "      <th>dance</th>\n",
              "      <th>...</th>\n",
              "      <th>solo</th>\n",
              "      <th>strange</th>\n",
              "      <th>string</th>\n",
              "      <th>synth</th>\n",
              "      <th>techno</th>\n",
              "      <th>trance</th>\n",
              "      <th>violin</th>\n",
              "      <th>vocal</th>\n",
              "      <th>mp3_path</th>\n",
              "      <th>features_id</th>\n",
              "    </tr>\n",
              "  </thead>\n",
              "  <tbody>\n",
              "    <tr>\n",
              "      <th>0</th>\n",
              "      <td>0</td>\n",
              "      <td>0</td>\n",
              "      <td>0</td>\n",
              "      <td>0</td>\n",
              "      <td>0</td>\n",
              "      <td>0</td>\n",
              "      <td>0</td>\n",
              "      <td>1</td>\n",
              "      <td>0</td>\n",
              "      <td>0</td>\n",
              "      <td>...</td>\n",
              "      <td>0</td>\n",
              "      <td>0</td>\n",
              "      <td>1</td>\n",
              "      <td>0</td>\n",
              "      <td>0</td>\n",
              "      <td>0</td>\n",
              "      <td>1</td>\n",
              "      <td>0</td>\n",
              "      <td>f/american_bach_soloists-j_s__bach_solo_cantat...</td>\n",
              "      <td>0000000100000000000000000000000010000000000010...</td>\n",
              "    </tr>\n",
              "    <tr>\n",
              "      <th>1</th>\n",
              "      <td>0</td>\n",
              "      <td>1</td>\n",
              "      <td>0</td>\n",
              "      <td>0</td>\n",
              "      <td>0</td>\n",
              "      <td>0</td>\n",
              "      <td>0</td>\n",
              "      <td>1</td>\n",
              "      <td>0</td>\n",
              "      <td>0</td>\n",
              "      <td>...</td>\n",
              "      <td>0</td>\n",
              "      <td>0</td>\n",
              "      <td>1</td>\n",
              "      <td>0</td>\n",
              "      <td>0</td>\n",
              "      <td>0</td>\n",
              "      <td>1</td>\n",
              "      <td>0</td>\n",
              "      <td>f/american_bach_soloists-j_s__bach_solo_cantat...</td>\n",
              "      <td>0100000100000000000000000000000010000000000010...</td>\n",
              "    </tr>\n",
              "    <tr>\n",
              "      <th>2</th>\n",
              "      <td>0</td>\n",
              "      <td>0</td>\n",
              "      <td>0</td>\n",
              "      <td>0</td>\n",
              "      <td>0</td>\n",
              "      <td>0</td>\n",
              "      <td>0</td>\n",
              "      <td>1</td>\n",
              "      <td>0</td>\n",
              "      <td>0</td>\n",
              "      <td>...</td>\n",
              "      <td>0</td>\n",
              "      <td>0</td>\n",
              "      <td>0</td>\n",
              "      <td>0</td>\n",
              "      <td>0</td>\n",
              "      <td>0</td>\n",
              "      <td>0</td>\n",
              "      <td>0</td>\n",
              "      <td>f/american_bach_soloists-j_s__bach_solo_cantat...</td>\n",
              "      <td>0000000100000000000000000000000010000000000000...</td>\n",
              "    </tr>\n",
              "    <tr>\n",
              "      <th>3</th>\n",
              "      <td>0</td>\n",
              "      <td>0</td>\n",
              "      <td>0</td>\n",
              "      <td>0</td>\n",
              "      <td>0</td>\n",
              "      <td>0</td>\n",
              "      <td>0</td>\n",
              "      <td>0</td>\n",
              "      <td>0</td>\n",
              "      <td>0</td>\n",
              "      <td>...</td>\n",
              "      <td>0</td>\n",
              "      <td>0</td>\n",
              "      <td>0</td>\n",
              "      <td>0</td>\n",
              "      <td>0</td>\n",
              "      <td>0</td>\n",
              "      <td>0</td>\n",
              "      <td>0</td>\n",
              "      <td>f/american_bach_soloists-j_s__bach_solo_cantat...</td>\n",
              "      <td>0000000000000000000000000000000010001000000000...</td>\n",
              "    </tr>\n",
              "    <tr>\n",
              "      <th>4</th>\n",
              "      <td>0</td>\n",
              "      <td>0</td>\n",
              "      <td>0</td>\n",
              "      <td>0</td>\n",
              "      <td>0</td>\n",
              "      <td>0</td>\n",
              "      <td>0</td>\n",
              "      <td>1</td>\n",
              "      <td>0</td>\n",
              "      <td>0</td>\n",
              "      <td>...</td>\n",
              "      <td>0</td>\n",
              "      <td>0</td>\n",
              "      <td>1</td>\n",
              "      <td>0</td>\n",
              "      <td>0</td>\n",
              "      <td>0</td>\n",
              "      <td>1</td>\n",
              "      <td>0</td>\n",
              "      <td>f/american_bach_soloists-j_s__bach_solo_cantat...</td>\n",
              "      <td>0000000100000000000000000000000000000000000010...</td>\n",
              "    </tr>\n",
              "  </tbody>\n",
              "</table>\n",
              "<p>5 rows × 52 columns</p>\n",
              "</div>"
            ],
            "text/plain": [
              "   ambient  baroque  bass  beat  cello  chant  choir  classical  country  \\\n",
              "0        0        0     0     0      0      0      0          1        0   \n",
              "1        0        1     0     0      0      0      0          1        0   \n",
              "2        0        0     0     0      0      0      0          1        0   \n",
              "3        0        0     0     0      0      0      0          0        0   \n",
              "4        0        0     0     0      0      0      0          1        0   \n",
              "\n",
              "   dance                        ...                          solo  strange  \\\n",
              "0      0                        ...                             0        0   \n",
              "1      0                        ...                             0        0   \n",
              "2      0                        ...                             0        0   \n",
              "3      0                        ...                             0        0   \n",
              "4      0                        ...                             0        0   \n",
              "\n",
              "   string  synth  techno  trance  violin  vocal  \\\n",
              "0       1      0       0       0       1      0   \n",
              "1       1      0       0       0       1      0   \n",
              "2       0      0       0       0       0      0   \n",
              "3       0      0       0       0       0      0   \n",
              "4       1      0       0       0       1      0   \n",
              "\n",
              "                                            mp3_path  \\\n",
              "0  f/american_bach_soloists-j_s__bach_solo_cantat...   \n",
              "1  f/american_bach_soloists-j_s__bach_solo_cantat...   \n",
              "2  f/american_bach_soloists-j_s__bach_solo_cantat...   \n",
              "3  f/american_bach_soloists-j_s__bach_solo_cantat...   \n",
              "4  f/american_bach_soloists-j_s__bach_solo_cantat...   \n",
              "\n",
              "                                         features_id  \n",
              "0  0000000100000000000000000000000010000000000010...  \n",
              "1  0100000100000000000000000000000010000000000010...  \n",
              "2  0000000100000000000000000000000010000000000000...  \n",
              "3  0000000000000000000000000000000010001000000000...  \n",
              "4  0000000100000000000000000000000000000000000010...  \n",
              "\n",
              "[5 rows x 52 columns]"
            ]
          },
          "metadata": {
            "tags": []
          },
          "execution_count": 85
        }
      ]
    },
    {
      "metadata": {
        "id": "SZZqcm-DU7aS",
        "colab_type": "code",
        "colab": {}
      },
      "cell_type": "code",
      "source": [
        "# save annotations & clip_file for reference\n",
        "annotations.to_csv(directory_labels + 'annotations_final_new.csv', sep=',')\n",
        "clip_file.to_csv(directory_labels + 'clip_file.csv', sep=',')"
      ],
      "execution_count": 0,
      "outputs": []
    },
    {
      "metadata": {
        "id": "gWvvG2Y8VHG5",
        "colab_type": "code",
        "colab": {}
      },
      "cell_type": "code",
      "source": [
        "# Rename all the mp3 files to their features_id\n",
        "# and save into a new folder named 'features_id_mp3'\n",
        "\n",
        "# Create destination directory where renamed mp3's will be stored\n",
        "os.mkdir(directory_files + \"features_id_mp3/\")"
      ],
      "execution_count": 0,
      "outputs": []
    },
    {
      "metadata": {
        "id": "7iITGFZyVSr0",
        "colab_type": "code",
        "colab": {}
      },
      "cell_type": "code",
      "source": [
        "for id in range(25863):\n",
        "    if features_id[id][:50] != '0'*50 :\n",
        "        src = directory_files + mp3_path[id]\n",
        "        dest = directory_files + \"features_id_mp3/\" + str(features_id[id]) + \".mp3\"\n",
        "        shutil.copy2(src,dest)"
      ],
      "execution_count": 0,
      "outputs": []
    },
    {
      "metadata": {
        "id": "bd6CHR-cWaL2",
        "colab_type": "code",
        "colab": {
          "base_uri": "https://localhost:8080/",
          "height": 108
        },
        "outputId": "58a03f77-b539-4577-c3aa-9ee7273c2391"
      },
      "cell_type": "code",
      "source": [
        "!ls"
      ],
      "execution_count": 69,
      "outputs": [
        {
          "output_type": "stream",
          "text": [
            "0  5  a\t\t\t\t clip_file.csv\t  mp3_all.zip\n",
            "1  6  annotations_final.csv\t d\t\t  mp3.zip.001\n",
            "2  7  annotations_final_new.csv  e\t\t  mp3.zip.002\n",
            "3  8  b\t\t\t\t f\t\t  mp3.zip.003\n",
            "4  9  c\t\t\t\t features_id_mp3  sample_data\n"
          ],
          "name": "stdout"
        }
      ]
    },
    {
      "metadata": {
        "id": "24aMdtHZWj-X",
        "colab_type": "code",
        "colab": {
          "base_uri": "https://localhost:8080/",
          "height": 35
        },
        "outputId": "80345d5c-cc10-418a-ef8a-6fa78210285a"
      },
      "cell_type": "code",
      "source": [
        "cd features_id_mp3"
      ],
      "execution_count": 70,
      "outputs": [
        {
          "output_type": "stream",
          "text": [
            "/content/features_id_mp3\n"
          ],
          "name": "stdout"
        }
      ]
    },
    {
      "metadata": {
        "id": "FfGel8T1WppZ",
        "colab_type": "code",
        "colab": {}
      },
      "cell_type": "code",
      "source": [
        "!ls"
      ],
      "execution_count": 0,
      "outputs": []
    },
    {
      "metadata": {
        "id": "Fk6gZEZSWqo3",
        "colab_type": "code",
        "colab": {
          "base_uri": "https://localhost:8080/",
          "height": 35
        },
        "outputId": "34c55edd-69cd-4037-ad08-325891abe660"
      },
      "cell_type": "code",
      "source": [
        "filenames = os.listdir('/content/features_id_mp3/')\n",
        "print(len(filenames))"
      ],
      "execution_count": 76,
      "outputs": [
        {
          "output_type": "stream",
          "text": [
            "21358\n"
          ],
          "name": "stdout"
        }
      ]
    },
    {
      "metadata": {
        "id": "095ZTCGjbMgk",
        "colab_type": "code",
        "colab": {
          "base_uri": "https://localhost:8080/",
          "height": 35
        },
        "outputId": "1e15b5f0-2cb4-49d3-d562-9b73a45fb093"
      },
      "cell_type": "code",
      "source": [
        "filenames[8170]"
      ],
      "execution_count": 81,
      "outputs": [
        {
          "output_type": "execute_result",
          "data": {
            "text/plain": [
              "'00000000000001000010000000000000000000000000000000_35644.mp3'"
            ]
          },
          "metadata": {
            "tags": []
          },
          "execution_count": 81
        }
      ]
    },
    {
      "metadata": {
        "id": "_R1HJcilYdOO",
        "colab_type": "code",
        "colab": {
          "base_uri": "https://localhost:8080/",
          "height": 35
        },
        "outputId": "a44d4cdb-6fbd-4691-fd43-46af4d84b8fe"
      },
      "cell_type": "code",
      "source": [
        "!pip install pydub\n",
        "from pydub import AudioSegment"
      ],
      "execution_count": 79,
      "outputs": [
        {
          "output_type": "stream",
          "text": [
            "Requirement already satisfied: pydub in /usr/local/lib/python3.6/dist-packages (0.23.1)\n"
          ],
          "name": "stdout"
        }
      ]
    },
    {
      "metadata": {
        "id": "GCb7w3EsX7ac",
        "colab_type": "code",
        "colab": {}
      },
      "cell_type": "code",
      "source": [
        ""
      ],
      "execution_count": 0,
      "outputs": []
    },
    {
      "metadata": {
        "id": "OcsUw1hsYRe4",
        "colab_type": "code",
        "colab": {}
      },
      "cell_type": "code",
      "source": [
        ""
      ],
      "execution_count": 0,
      "outputs": []
    }
  ]
}